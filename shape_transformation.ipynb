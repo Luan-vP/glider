{
 "cells": [
  {
   "cell_type": "code",
   "execution_count": null,
   "metadata": {},
   "outputs": [],
   "source": [
    "import vehicle\n",
    "from constants import DEFAULT_STL_FILEPATH\n",
    "\n",
    "v = vehicle.Vehicle(filename=DEFAULT_STL_FILEPATH)\n"
   ]
  }
 ],
 "metadata": {
  "language_info": {
   "name": "python"
  },
  "orig_nbformat": 4
 },
 "nbformat": 4,
 "nbformat_minor": 2
}
