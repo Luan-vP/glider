{
  "nbformat": 4,
  "nbformat_minor": 0,
  "metadata": {
    "colab": {
      "provenance": [],
      "gpuType": "A100",
      "authorship_tag": "ABX9TyOZUuXdsXxggvP+IOiTfZbk",
      "include_colab_link": true
    },
    "kernelspec": {
      "name": "python3",
      "display_name": "Python 3"
    },
    "language_info": {
      "name": "python"
    },
    "accelerator": "GPU"
  },
  "cells": [
    {
      "cell_type": "markdown",
      "metadata": {
        "id": "view-in-github",
        "colab_type": "text"
      },
      "source": [
        "<a href=\"https://colab.research.google.com/github/Luan-vP/glider/blob/main/Glider_Evolution.ipynb\" target=\"_parent\"><img src=\"https://colab.research.google.com/assets/colab-badge.svg\" alt=\"Open In Colab\"/></a>"
      ]
    },
    {
      "cell_type": "code",
      "source": [
        "!pip install mujoco"
      ],
      "metadata": {
        "colab": {
          "base_uri": "https://localhost:8080/"
        },
        "id": "VTL5DB5U0AES",
        "outputId": "eb4ada1c-5f7a-49d8-cd55-8a6fe843ee70"
      },
      "execution_count": null,
      "outputs": [
        {
          "output_type": "stream",
          "name": "stdout",
          "text": [
            "Collecting mujoco\n",
            "  Downloading mujoco-2.3.6-cp310-cp310-manylinux_2_17_x86_64.manylinux2014_x86_64.whl (4.5 MB)\n",
            "\u001b[2K     \u001b[90m━━━━━━━━━━━━━━━━━━━━━━━━━━━━━━━━━━━━━━━━\u001b[0m \u001b[32m4.5/4.5 MB\u001b[0m \u001b[31m67.8 MB/s\u001b[0m eta \u001b[36m0:00:00\u001b[0m\n",
            "\u001b[?25hRequirement already satisfied: absl-py in /usr/local/lib/python3.10/dist-packages (from mujoco) (1.4.0)\n",
            "Collecting glfw (from mujoco)\n",
            "  Downloading glfw-2.6.2-py2.py27.py3.py30.py31.py32.py33.py34.py35.py36.py37.py38-none-manylinux2014_x86_64.whl (208 kB)\n",
            "\u001b[2K     \u001b[90m━━━━━━━━━━━━━━━━━━━━━━━━━━━━━━━━━━━━━━\u001b[0m \u001b[32m208.2/208.2 kB\u001b[0m \u001b[31m27.0 MB/s\u001b[0m eta \u001b[36m0:00:00\u001b[0m\n",
            "\u001b[?25hRequirement already satisfied: numpy in /usr/local/lib/python3.10/dist-packages (from mujoco) (1.22.4)\n",
            "Requirement already satisfied: pyopengl in /usr/local/lib/python3.10/dist-packages (from mujoco) (3.1.7)\n",
            "Installing collected packages: glfw, mujoco\n",
            "Successfully installed glfw-2.6.2 mujoco-2.3.6\n"
          ]
        }
      ]
    },
    {
      "cell_type": "code",
      "source": [
        "!nvidia-smi"
      ],
      "metadata": {
        "colab": {
          "base_uri": "https://localhost:8080/"
        },
        "id": "UYdTBhW20s3C",
        "outputId": "cfc454b6-33eb-4507-d8b6-4e53ab89eda1"
      },
      "execution_count": null,
      "outputs": [
        {
          "output_type": "stream",
          "name": "stdout",
          "text": [
            "Wed Jul 12 11:18:58 2023       \n",
            "+-----------------------------------------------------------------------------+\n",
            "| NVIDIA-SMI 525.85.12    Driver Version: 525.85.12    CUDA Version: 12.0     |\n",
            "|-------------------------------+----------------------+----------------------+\n",
            "| GPU  Name        Persistence-M| Bus-Id        Disp.A | Volatile Uncorr. ECC |\n",
            "| Fan  Temp  Perf  Pwr:Usage/Cap|         Memory-Usage | GPU-Util  Compute M. |\n",
            "|                               |                      |               MIG M. |\n",
            "|===============================+======================+======================|\n",
            "|   0  NVIDIA A100-SXM...  Off  | 00000000:00:04.0 Off |                    0 |\n",
            "| N/A   32C    P0    45W / 400W |      0MiB / 40960MiB |      0%      Default |\n",
            "|                               |                      |             Disabled |\n",
            "+-------------------------------+----------------------+----------------------+\n",
            "                                                                               \n",
            "+-----------------------------------------------------------------------------+\n",
            "| Processes:                                                                  |\n",
            "|  GPU   GI   CI        PID   Type   Process name                  GPU Memory |\n",
            "|        ID   ID                                                   Usage      |\n",
            "|=============================================================================|\n",
            "|  No running processes found                                                 |\n",
            "+-----------------------------------------------------------------------------+\n"
          ]
        }
      ]
    },
    {
      "cell_type": "code",
      "source": [
        "#@title Check if installation was successful\n",
        "\n",
        "from google.colab import files\n",
        "\n",
        "import distutils.util\n",
        "import os\n",
        "import subprocess\n",
        "if subprocess.run('nvidia-smi').returncode:\n",
        "  raise RuntimeError(\n",
        "      'Cannot communicate with GPU. '\n",
        "      'Make sure you are using a GPU Colab runtime. '\n",
        "      'Go to the Runtime menu and select Choose runtime type.')\n",
        "\n",
        "# Add an ICD config so that glvnd can pick up the Nvidia EGL driver.\n",
        "# This is usually installed as part of an Nvidia driver package, but the Colab\n",
        "# kernel doesn't install its driver via APT, and as a result the ICD is missing.\n",
        "# (https://github.com/NVIDIA/libglvnd/blob/master/src/EGL/icd_enumeration.md)\n",
        "NVIDIA_ICD_CONFIG_PATH = '/usr/share/glvnd/egl_vendor.d/10_nvidia.json'\n",
        "if not os.path.exists(NVIDIA_ICD_CONFIG_PATH):\n",
        "  with open(NVIDIA_ICD_CONFIG_PATH, 'w') as f:\n",
        "    f.write(\"\"\"{\n",
        "    \"file_format_version\" : \"1.0.0\",\n",
        "    \"ICD\" : {\n",
        "        \"library_path\" : \"libEGL_nvidia.so.0\"\n",
        "    }\n",
        "}\n",
        "\"\"\")\n",
        "\n",
        "# Configure MuJoCo to use the EGL rendering backend (requires GPU)\n",
        "print('Setting environment variable to use GPU rendering:')\n",
        "%env MUJOCO_GL=egl\n",
        "\n",
        "try:\n",
        "  print('Checking that the installation succeeded:')\n",
        "  import mujoco\n",
        "  mujoco.MjModel.from_xml_string('<mujoco/>')\n",
        "except Exception as e:\n",
        "  raise e from RuntimeError(\n",
        "      'Something went wrong during installation. Check the shell output above '\n",
        "      'for more information.\\n'\n",
        "      'If using a hosted Colab runtime, make sure you enable GPU acceleration '\n",
        "      'by going to the Runtime menu and selecting \"Choose runtime type\".')\n",
        "\n",
        "print('Installation successful.')"
      ],
      "metadata": {
        "id": "n6MpzVzHzXpW",
        "colab": {
          "base_uri": "https://localhost:8080/"
        },
        "outputId": "2275040f-796b-4d2f-a4fd-1c40dca38094"
      },
      "execution_count": null,
      "outputs": [
        {
          "output_type": "stream",
          "name": "stdout",
          "text": [
            "Setting environment variable to use GPU rendering:\n",
            "env: MUJOCO_GL=egl\n",
            "Checking that the installation succeeded:\n",
            "Installation successful.\n"
          ]
        }
      ]
    },
    {
      "cell_type": "code",
      "source": [
        "#@title Import packages for plotting and creating graphics\n",
        "import time\n",
        "import itertools\n",
        "import numpy as np\n",
        "from typing import Callable, NamedTuple, Optional, Union, List\n",
        "\n",
        "# Graphics and plotting.\n",
        "print('Installing mediapy:')\n",
        "!command -v ffmpeg >/dev/null || (apt update && apt install -y ffmpeg)\n",
        "!pip install -q mediapy\n",
        "import mediapy as media\n",
        "import matplotlib.pyplot as plt\n",
        "\n",
        "# More legible printing from numpy.\n",
        "np.set_printoptions(precision=3, suppress=True, linewidth=100)"
      ],
      "metadata": {
        "colab": {
          "base_uri": "https://localhost:8080/"
        },
        "id": "J7qbyzECz3GW",
        "outputId": "a20a7e72-d8ff-4918-c4e6-37b6db3af3bc"
      },
      "execution_count": null,
      "outputs": [
        {
          "output_type": "stream",
          "name": "stdout",
          "text": [
            "Installing mediapy:\n",
            "\u001b[2K     \u001b[90m━━━━━━━━━━━━━━━━━━━━━━━━━━━━━━━━━━━━━━━━\u001b[0m \u001b[32m1.6/1.6 MB\u001b[0m \u001b[31m48.9 MB/s\u001b[0m eta \u001b[36m0:00:00\u001b[0m\n",
            "\u001b[?25h"
          ]
        }
      ]
    },
    {
      "cell_type": "code",
      "source": [
        "density = 1.2\n",
        "viscosity = 0.00002\n",
        "\n",
        "pilot_weight = 68"
      ],
      "metadata": {
        "id": "9BWXxwJtBDPc"
      },
      "execution_count": null,
      "outputs": []
    },
    {
      "cell_type": "code",
      "execution_count": null,
      "metadata": {
        "id": "biPnm1YTzTQd",
        "colab": {
          "base_uri": "https://localhost:8080/",
          "height": 263
        },
        "outputId": "2fa8eb54-8ad2-4ee1-904b-bd5c7ed47cef"
      },
      "outputs": [
        {
          "output_type": "display_data",
          "data": {
            "text/plain": [
              "<IPython.core.display.HTML object>"
            ],
            "text/html": [
              "<table class=\"show_images\" style=\"border-spacing:0px;\"><tr><td style=\"padding:1px;\"><img width=\"320\" height=\"240\" style=\"image-rendering:auto; object-fit:cover;\" src=\"data:image/png;base64,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\"/></td></tr></table>"
            ]
          },
          "metadata": {}
        }
      ],
      "source": [
        "xml = f\"\"\"\n",
        "<mujoco>\n",
        "    <option density=\"1.2\" viscosity=\"0.00002\" wind=\"95 0 0\"/>\n",
        "    <worldbody>\n",
        "        <light name=\"top\" pos=\"0 0 5\"/>\n",
        "        <!-- Body -->\n",
        "        <body name=\"body\" pos=\"0 0 1\" euler=\"90 0 0\">\n",
        "            <freejoint/>\n",
        "            <!-- Main Wing -->\n",
        "            <geom name=\"main_wing\" type=\"box\" size=\"0.8 0.05 0.1\" rgba=\"0.8 0.8 0.8 1\" pos=\"0 0 0\"/>\n",
        "            <!-- Pilot -->\n",
        "        </body>\n",
        "    </worldbody>\n",
        "</mujoco>\n",
        "\n",
        "\"\"\"\n",
        "\n",
        "\n",
        "# Make model and data\n",
        "model = mujoco.MjModel.from_xml_string(xml)\n",
        "data = mujoco.MjData(model)\n",
        "\n",
        "# Make renderer, render and show the pixels\n",
        "renderer = mujoco.Renderer(model)\n",
        "\n",
        "mujoco.mj_forward(model, data)\n",
        "renderer.update_scene(data)\n",
        "\n",
        "media.show_image(renderer.render())"
      ]
    },
    {
      "cell_type": "code",
      "source": [
        "duration = 3.8  # (seconds)\n",
        "framerate = 60  # (Hz)\n",
        "\n",
        "# Simulate and display video.\n",
        "frames = []\n",
        "mujoco.mj_resetData(model, data)  # Reset state and time.\n",
        "while data.time < duration:\n",
        "  mujoco.mj_step(model, data)\n",
        "  if len(frames) < data.time * framerate:\n",
        "    renderer.update_scene(data)\n",
        "    pixels = renderer.render()\n",
        "    frames.append(pixels)\n",
        "media.show_video(frames, fps=framerate)"
      ],
      "metadata": {
        "colab": {
          "base_uri": "https://localhost:8080/",
          "height": 263
        },
        "id": "G4CwEtn01c2p",
        "outputId": "c18c77ee-9eb4-44d9-bdd2-d8c440bb3ae0"
      },
      "execution_count": null,
      "outputs": [
        {
          "output_type": "display_data",
          "data": {
            "text/plain": [
              "<IPython.core.display.HTML object>"
            ],
            "text/html": [
              "<table class=\"show_videos\" style=\"border-spacing:0px;\"><tr><td style=\"padding:1px;\"><video controls width=\"320\" height=\"240\" style=\"object-fit:cover;\" loop autoplay muted>\n",
              "      <source src=\"data:video/mp4;base64,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\" type=\"video/mp4\"/>\n",
              "      This browser does not support the video tag.\n",
              "      </video></td></tr></table>"
            ]
          },
          "metadata": {}
        }
      ]
    }
  ]
}