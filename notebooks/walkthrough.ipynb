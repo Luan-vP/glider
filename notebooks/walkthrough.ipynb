{
 "cells": [
  {
   "cell_type": "code",
   "execution_count": 1,
   "metadata": {},
   "outputs": [],
   "source": [
    "# from pathlib import Path\n",
    "\n",
    "# repository_path = Path('..').resolve()\n",
    "\n",
    "# !pip install -Uqq {repository_path}\n",
    "%pip install -e ..\n",
    "    \n",
    "\n",
    "\n",
    "# !export PYTHONPATH=$PYTHONPATH:{repository_path}\n",
    "# !echo $PYTHONPATH"
   ]
  },
  {
   "cell_type": "code",
   "execution_count": 2,
   "metadata": {},
   "outputs": [],
   "source": [
    "# !echo {repository_path}"
   ]
  },
  {
   "cell_type": "markdown",
   "metadata": {},
   "source": [
    "<a target=\"_blank\" href=\"https://colab.research.google.com/github/Luan-vP/glider/blob/main/walkthrough.ipynb\">\n",
    "  <img src=\"https://colab.research.google.com/assets/colab-badge.svg\" alt=\"Open In Colab\"/>\n",
    "</a>"
   ]
  },
  {
   "cell_type": "code",
   "execution_count": 3,
   "metadata": {},
   "outputs": [],
   "source": [
    "import glider.visualize as visualize\n",
    "import glider.vehicle as vehicle\n",
    "\n",
    "import mediapy as media"
   ]
  },
  {
   "cell_type": "markdown",
   "metadata": {},
   "source": [
    "Hi there! Welcome to jelyfish_can_fly \n",
    "\n",
    "An aquarium of creatures learning to fly, or at least glide...\n",
    "\n"
   ]
  },
  {
   "cell_type": "markdown",
   "metadata": {},
   "source": [
    "There are 3 different reproduction modes:\n",
    "- Mutation\n",
    "- Cloning\n",
    "- Cross-over"
   ]
  },
  {
   "cell_type": "markdown",
   "metadata": {},
   "source": [
    "The first mode, mutation, creates offspring that vary according to the MUTATION_RATIO, here 5%. \n",
    "\n",
    "Let's try it out!"
   ]
  },
  {
   "cell_type": "code",
   "execution_count": 4,
   "metadata": {},
   "outputs": [
    {
     "data": {
      "text/html": [
       "<table class=\"show_images\" style=\"border-spacing:0px;\"><tr><td style=\"padding:1px;\"><img width=\"320\" height=\"240\" style=\"image-rendering:auto; object-fit:cover;\" src=\"data:image/png;base64,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\"/></td></tr></table>"
      ],
      "text/plain": [
       "<IPython.core.display.HTML object>"
      ]
     },
     "metadata": {},
     "output_type": "display_data"
    },
    {
     "data": {
      "text/html": [
       "<table class=\"show_images\" style=\"border-spacing:0px;\"><tr><td style=\"padding:1px;\"><img width=\"320\" height=\"240\" style=\"image-rendering:auto; object-fit:cover;\" src=\"data:image/png;base64,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\"/></td></tr></table>"
      ],
      "text/plain": [
       "<IPython.core.display.HTML object>"
      ]
     },
     "metadata": {},
     "output_type": "display_data"
    }
   ],
   "source": [
    "v = vehicle.Vehicle(\n",
    "    num_vertices=10,\n",
    "    max_dim_m=5,\n",
    "    )\n",
    "media.show_image(visualize.view_vehicle(*v.create_glider_from_vertices()))\n",
    "\n",
    "v2 = vehicle.Vehicle(\n",
    "    vertices=v.mutate(),\n",
    ")\n",
    "media.show_image(visualize.view_vehicle(*v2.create_glider_from_vertices()))"
   ]
  },
  {
   "cell_type": "markdown",
   "metadata": {},
   "source": [
    "These will be similar to the parents, but not the same, allowing us to whittle into adjacent niches."
   ]
  },
  {
   "cell_type": "markdown",
   "metadata": {},
   "source": [
    "Cross-over allows us to take a set of genes from one parent, and a set of genes from the other, resulting in a hybrid.\n",
    "\n",
    "The idea is to take existing \"features\" from both gliders and combine them to create new solution tips."
   ]
  },
  {
   "cell_type": "code",
   "execution_count": 5,
   "metadata": {},
   "outputs": [
    {
     "data": {
      "text/html": [
       "<table class=\"show_images\" style=\"border-spacing:0px;\"><tr><td style=\"padding:1px;\"><img width=\"320\" height=\"240\" style=\"image-rendering:auto; object-fit:cover;\" src=\"data:image/png;base64,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\"/></td></tr></table>"
      ],
      "text/plain": [
       "<IPython.core.display.HTML object>"
      ]
     },
     "metadata": {},
     "output_type": "display_data"
    },
    {
     "data": {
      "text/html": [
       "<table class=\"show_images\" style=\"border-spacing:0px;\"><tr><td style=\"padding:1px;\"><img width=\"320\" height=\"240\" style=\"image-rendering:auto; object-fit:cover;\" src=\"data:image/png;base64,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\"/></td></tr></table>"
      ],
      "text/plain": [
       "<IPython.core.display.HTML object>"
      ]
     },
     "metadata": {},
     "output_type": "display_data"
    },
    {
     "data": {
      "text/html": [
       "<table class=\"show_images\" style=\"border-spacing:0px;\"><tr><td style=\"padding:1px;\"><img width=\"320\" height=\"240\" style=\"image-rendering:auto; object-fit:cover;\" src=\"data:image/png;base64,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\"/></td></tr></table>"
      ],
      "text/plain": [
       "<IPython.core.display.HTML object>"
      ]
     },
     "metadata": {},
     "output_type": "display_data"
    }
   ],
   "source": [
    "# Here is an example of cross-over reproduction:\n",
    "\n",
    "v1 = vehicle.Vehicle(\n",
    "    num_vertices=10,\n",
    "    max_dim_m=0.5,\n",
    "    )\n",
    "media.show_image(visualize.view_vehicle(*v.create_glider_from_vertices()))\n",
    "\n",
    "v2 = vehicle.Vehicle(\n",
    "    num_vertices=10,\n",
    "    max_dim_m=5.0,\n",
    ")\n",
    "media.show_image(visualize.view_vehicle(*v2.create_glider_from_vertices()))\n",
    "\n",
    "v3 = vehicle.Vehicle(\n",
    "    vertices=v2.cross_over(v1),\n",
    ")\n",
    "media.show_image(visualize.view_vehicle(*v3.create_glider_from_vertices()))"
   ]
  },
  {
   "cell_type": "code",
   "execution_count": null,
   "metadata": {},
   "outputs": [],
   "source": []
  },
  {
   "cell_type": "code",
   "execution_count": 6,
   "metadata": {},
   "outputs": [
    {
     "name": "stdout",
     "output_type": "stream",
     "text": [
      "Iteration: 0\n"
     ]
    },
    {
     "ename": "AttributeError",
     "evalue": "'Vehicle' object has no attribute 'show'",
     "output_type": "error",
     "traceback": [
      "\u001b[0;31m---------------------------------------------------------------------------\u001b[0m",
      "\u001b[0;31mAttributeError\u001b[0m                            Traceback (most recent call last)",
      "Cell \u001b[0;32mIn[6], line 18\u001b[0m\n\u001b[1;32m     16\u001b[0m \u001b[39mif\u001b[39;00m i \u001b[39m%\u001b[39m \u001b[39m50\u001b[39m \u001b[39m==\u001b[39m \u001b[39m0\u001b[39m:\n\u001b[1;32m     17\u001b[0m     winning_glider \u001b[39m=\u001b[39m population[\u001b[39m0\u001b[39m]\n\u001b[0;32m---> 18\u001b[0m     winning_glider\u001b[39m.\u001b[39;49mshow()\n",
      "\u001b[0;31mAttributeError\u001b[0m: 'Vehicle' object has no attribute 'show'"
     ]
    }
   ],
   "source": [
    "from glider.optimization import iterate_population\n",
    "\n",
    "population = [] \n",
    "for i in range(200):\n",
    "    print(\"Iteration:\", i)\n",
    "    population = iterate_population(\n",
    "        population,\n",
    "        population_size = 100,\n",
    "        survival_weight = 0.4,\n",
    "        # hereditary_weight = 0.4,\n",
    "        # mutation_weight = 3,\n",
    "        # cloning_weight = 1,\n",
    "        # crossover_weight = 1,\n",
    "    )\n",
    "\n",
    "    if i % 50 == 0:\n",
    "        winning_glider = population[0]\n",
    "        winning_glider.show()"
   ]
  },
  {
   "cell_type": "code",
   "execution_count": null,
   "metadata": {},
   "outputs": [],
   "source": []
  }
 ],
 "metadata": {
  "kernelspec": {
   "display_name": ".env",
   "language": "python",
   "name": "python3"
  },
  "language_info": {
   "codemirror_mode": {
    "name": "ipython",
    "version": 3
   },
   "file_extension": ".py",
   "mimetype": "text/x-python",
   "name": "python",
   "nbconvert_exporter": "python",
   "pygments_lexer": "ipython3",
   "version": "3.11.0"
  },
  "orig_nbformat": 4
 },
 "nbformat": 4,
 "nbformat_minor": 2
}
