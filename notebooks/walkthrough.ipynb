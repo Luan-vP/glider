{
 "cells": [
  {
   "cell_type": "code",
   "execution_count": 1,
   "metadata": {},
   "outputs": [],
   "source": [
    "# from pathlib import Path\n",
    "\n",
    "# repository_path = Path('..').resolve()\n",
    "\n",
    "# !pip install -Uqq {repository_path}\n",
    "# %pip install -e ..\n",
    "    \n",
    "\n",
    "\n",
    "# !export PYTHONPATH=$PYTHONPATH:{repository_path}\n",
    "# !echo $PYTHONPATH"
   ]
  },
  {
   "cell_type": "markdown",
   "metadata": {},
   "source": [
    "<a target=\"_blank\" href=\"https://colab.research.google.com/github/Luan-vP/glider/blob/main/walkthrough.ipynb\">\n",
    "  <img src=\"https://colab.research.google.com/assets/colab-badge.svg\" alt=\"Open In Colab\"/>\n",
    "</a>"
   ]
  },
  {
   "cell_type": "code",
   "execution_count": 2,
   "metadata": {},
   "outputs": [],
   "source": [
    "import glider.visualize as visualize\n",
    "import glider.vehicle as vehicle\n",
    "\n",
    "import mediapy as media"
   ]
  },
  {
   "cell_type": "markdown",
   "metadata": {},
   "source": [
    "This is a genetic algorithm to optimise a glider form.\n",
    "\n"
   ]
  },
  {
   "cell_type": "markdown",
   "metadata": {},
   "source": [
    "There are 3 different reproduction modes:\n",
    "- Mutation\n",
    "- Cloning\n",
    "- Cross-over"
   ]
  },
  {
   "cell_type": "markdown",
   "metadata": {},
   "source": [
    "The first mode, mutation, creates offspring that vary according to the MUTATION_RATIO, here 5%. \n",
    "\n",
    "Let's try it out!"
   ]
  },
  {
   "cell_type": "code",
   "execution_count": 3,
   "metadata": {},
   "outputs": [
    {
     "data": {
      "text/html": [
       "<table class=\"show_images\" style=\"border-spacing:0px;\"><tr><td style=\"padding:1px;\"><img width=\"320\" height=\"240\" style=\"image-rendering:auto; object-fit:cover;\" src=\"data:image/png;base64,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\"/></td></tr></table>"
      ],
      "text/plain": [
       "<IPython.core.display.HTML object>"
      ]
     },
     "metadata": {},
     "output_type": "display_data"
    },
    {
     "data": {
      "text/html": [
       "<table class=\"show_images\" style=\"border-spacing:0px;\"><tr><td style=\"padding:1px;\"><img width=\"320\" height=\"240\" style=\"image-rendering:auto; object-fit:cover;\" src=\"data:image/png;base64,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\"/></td></tr></table>"
      ],
      "text/plain": [
       "<IPython.core.display.HTML object>"
      ]
     },
     "metadata": {},
     "output_type": "display_data"
    }
   ],
   "source": [
    "v = vehicle.Vehicle(\n",
    "    num_vertices=10,\n",
    "    max_dim_m=5,\n",
    "    )\n",
    "media.show_image(visualize.view_vehicle(*v.create_glider_from_vertices()))\n",
    "\n",
    "v2 = vehicle.Vehicle(\n",
    "    vertices=v.mutate(),\n",
    ")\n",
    "media.show_image(visualize.view_vehicle(*v2.create_glider_from_vertices()))"
   ]
  },
  {
   "cell_type": "markdown",
   "metadata": {},
   "source": [
    "These will be similar to the parents, but not the same, allowing us to whittle into adjacent niches."
   ]
  },
  {
   "cell_type": "markdown",
   "metadata": {},
   "source": [
    "Cross-over allows us to take a set of genes from one parent, and a set of genes from the other, resulting in a hybrid.\n",
    "\n",
    "The idea is to take existing \"features\" from both gliders and combine them to create new solution tips."
   ]
  },
  {
   "cell_type": "code",
   "execution_count": 4,
   "metadata": {},
   "outputs": [
    {
     "data": {
      "text/html": [
       "<table class=\"show_images\" style=\"border-spacing:0px;\"><tr><td style=\"padding:1px;\"><img width=\"320\" height=\"240\" style=\"image-rendering:auto; object-fit:cover;\" src=\"data:image/png;base64,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\"/></td></tr></table>"
      ],
      "text/plain": [
       "<IPython.core.display.HTML object>"
      ]
     },
     "metadata": {},
     "output_type": "display_data"
    },
    {
     "data": {
      "text/html": [
       "<table class=\"show_images\" style=\"border-spacing:0px;\"><tr><td style=\"padding:1px;\"><img width=\"320\" height=\"240\" style=\"image-rendering:auto; object-fit:cover;\" src=\"data:image/png;base64,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\"/></td></tr></table>"
      ],
      "text/plain": [
       "<IPython.core.display.HTML object>"
      ]
     },
     "metadata": {},
     "output_type": "display_data"
    },
    {
     "data": {
      "text/html": [
       "<table class=\"show_images\" style=\"border-spacing:0px;\"><tr><td style=\"padding:1px;\"><img width=\"320\" height=\"240\" style=\"image-rendering:auto; object-fit:cover;\" src=\"data:image/png;base64,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\"/></td></tr></table>"
      ],
      "text/plain": [
       "<IPython.core.display.HTML object>"
      ]
     },
     "metadata": {},
     "output_type": "display_data"
    }
   ],
   "source": [
    "# Here is an example of cross-over reproduction:\n",
    "\n",
    "v1 = vehicle.Vehicle(\n",
    "    num_vertices=10,\n",
    "    max_dim_m=0.5,\n",
    "    )\n",
    "media.show_image(visualize.view_vehicle(*v.create_glider_from_vertices()))\n",
    "\n",
    "v2 = vehicle.Vehicle(\n",
    "    num_vertices=10,\n",
    "    max_dim_m=5.0,\n",
    ")\n",
    "media.show_image(visualize.view_vehicle(*v2.create_glider_from_vertices()))\n",
    "\n",
    "v3 = vehicle.Vehicle(\n",
    "    vertices=v2.cross_over(v1),\n",
    ")\n",
    "media.show_image(visualize.view_vehicle(*v3.create_glider_from_vertices()))"
   ]
  },
  {
   "cell_type": "code",
   "execution_count": 5,
   "metadata": {},
   "outputs": [
    {
     "name": "stdout",
     "output_type": "stream",
     "text": [
      "Iteration: 0\n",
      "Fitness: 17.383323119338506\n",
      "Iteration: 10\n",
      "Fitness: 24.375869564380736\n",
      "Iteration: 20\n",
      "Fitness: 36.08879596938361\n",
      "Iteration: 30\n",
      "Fitness: 42.74885368519704\n",
      "Iteration: 40\n",
      "Fitness: 57.85792854693818\n",
      "Iteration: 50\n",
      "Fitness: 58.85125561120731\n",
      "Iteration: 60\n",
      "Fitness: 64.76658946090045\n",
      "Iteration: 70\n",
      "Fitness: 66.07745580498172\n",
      "Iteration: 80\n",
      "Fitness: 70.56290867661546\n",
      "Iteration: 90\n",
      "Fitness: 76.95387681133494\n",
      "Iteration: 100\n",
      "Fitness: 77.40297673224536\n",
      "Iteration: 110\n",
      "Fitness: 77.40297673224536\n",
      "Iteration: 120\n",
      "Fitness: 77.40297673224536\n",
      "Iteration: 130\n",
      "Fitness: 77.40297673224536\n",
      "Iteration: 140\n",
      "Fitness: 77.40297673224536\n",
      "Iteration: 150\n",
      "Fitness: 77.40297673224536\n",
      "Iteration: 160\n",
      "Fitness: 77.40297673224536\n",
      "Iteration: 170\n",
      "Fitness: 77.40297673224536\n"
     ]
    }
   ],
   "source": [
    "from glider.optimization import iterate_population, fitness_func\n",
    "from glider.visualize import view_vehicle\n",
    "\n",
    "frames = []\n",
    "\n",
    "population = [] \n",
    "for i in range(300):\n",
    "    population = iterate_population(\n",
    "        population,\n",
    "        population_size = 100,\n",
    "        survival_weight = 0.4,\n",
    "        cloning_weight = 0.4,\n",
    "    )\n",
    "\n",
    "    if i % 10 == 0:\n",
    "        print(\"Iteration:\", i)\n",
    "        winning_genes = population[0]\n",
    "        print(\"Fitness:\", fitness_func(winning_genes))\n",
    "        # vehicle.Vehicle(vertices=winning_genes).show()\n",
    "        frames.append(view_vehicle(*vehicle.Vehicle(vertices=winning_genes).create_glider_from_vertices()))\n"
   ]
  },
  {
   "cell_type": "code",
   "execution_count": null,
   "metadata": {},
   "outputs": [
    {
     "data": {
      "text/html": [
       "<table class=\"show_videos\" style=\"border-spacing:0px;\"><tr><td style=\"padding:1px;\"><video controls width=\"320\" height=\"240\" style=\"object-fit:cover;\" loop autoplay muted>\n",
       "      <source src=\"data:video/mp4;base64,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\" type=\"video/mp4\"/>\n",
       "      This browser does not support the video tag.\n",
       "      </video></td></tr></table>"
      ],
      "text/plain": [
       "<IPython.core.display.HTML object>"
      ]
     },
     "metadata": {},
     "output_type": "display_data"
    }
   ],
   "source": [
    "media.show_video(frames, fps=8)"
   ]
  },
  {
   "cell_type": "code",
   "execution_count": null,
   "metadata": {},
   "outputs": [
    {
     "data": {
      "text/html": [
       "<table class=\"show_images\" style=\"border-spacing:0px;\"><tr><td style=\"padding:1px;\"><img width=\"320\" height=\"240\" style=\"image-rendering:auto; object-fit:cover;\" src=\"data:image/png;base64,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\"/></td></tr></table>"
      ],
      "text/plain": [
       "<IPython.core.display.HTML object>"
      ]
     },
     "metadata": {},
     "output_type": "display_data"
    }
   ],
   "source": [
    "v = vehicle.Vehicle(vertices=population[0])\n",
    "v.show()"
   ]
  },
  {
   "cell_type": "code",
   "execution_count": null,
   "metadata": {},
   "outputs": [],
   "source": [
    "import glider.simulation as sim\n",
    "\n",
    "glider_xml, glider_asset = v.create_glider_from_vertices()\n",
    "world_xml = sim.drop_test_glider(glider_xml, glider_asset)\n",
    "\n",
    "from pathlib import Path\n",
    "\n",
    "p = Path('../assets/worlds/drop_test.xml').resolve()\n",
    "p.parent.mkdir(parents=True, exist_ok=True)\n",
    "\n",
    "with open('../assets/worlds/drop_test.xml', 'w') as f:\n",
    "    f.write(world_xml)"
   ]
  }
 ],
 "metadata": {
  "kernelspec": {
   "display_name": ".env",
   "language": "python",
   "name": "python3"
  },
  "language_info": {
   "codemirror_mode": {
    "name": "ipython",
    "version": 3
   },
   "file_extension": ".py",
   "mimetype": "text/x-python",
   "name": "python",
   "nbconvert_exporter": "python",
   "pygments_lexer": "ipython3",
   "version": "3.11.0"
  },
  "orig_nbformat": 4
 },
 "nbformat": 4,
 "nbformat_minor": 2
}
