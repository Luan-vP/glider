{
 "cells": [
  {
   "cell_type": "code",
   "execution_count": 1,
   "metadata": {},
   "outputs": [
    {
     "name": "stdout",
     "output_type": "stream",
     "text": [
      "\u001b[31mERROR: git+https://github.com/Luan-vP/glider does not appear to be a Python project: neither 'setup.py' nor 'pyproject.toml' found.\u001b[0m\u001b[31m\n",
      "\u001b[0m\n"
     ]
    }
   ],
   "source": [
    "from pathlib import Path\n",
    "\n",
    "repository_path = Path('.').resolve()\n",
    "\n",
    "!pip install -qq git+https://github.com/Luan-vP/glider\n",
    "    \n",
    "\n",
    "\n",
    "!export PYTHONPATH=$PYTHONPATH:{repository_path}\n",
    "!echo $PYTHONPATH"
   ]
  },
  {
   "cell_type": "code",
   "execution_count": 2,
   "metadata": {},
   "outputs": [
    {
     "name": "stdout",
     "output_type": "stream",
     "text": [
      "/Users/luan/Developer/glider/notebooks\n"
     ]
    }
   ],
   "source": [
    "!echo {repository_path}"
   ]
  },
  {
   "cell_type": "markdown",
   "metadata": {},
   "source": [
    "<a target=\"_blank\" href=\"https://colab.research.google.com/github/Luan-vP/glider/blob/main/walkthrough.ipynb\">\n",
    "  <img src=\"https://colab.research.google.com/assets/colab-badge.svg\" alt=\"Open In Colab\"/>\n",
    "</a>"
   ]
  },
  {
   "cell_type": "code",
   "execution_count": 3,
   "metadata": {},
   "outputs": [
    {
     "ename": "ModuleNotFoundError",
     "evalue": "No module named 'visualize'",
     "output_type": "error",
     "traceback": [
      "\u001b[0;31m---------------------------------------------------------------------------\u001b[0m",
      "\u001b[0;31mModuleNotFoundError\u001b[0m                       Traceback (most recent call last)",
      "Cell \u001b[0;32mIn[3], line 1\u001b[0m\n\u001b[0;32m----> 1\u001b[0m \u001b[39mimport\u001b[39;00m \u001b[39mvisualize\u001b[39;00m\n\u001b[1;32m      2\u001b[0m \u001b[39mimport\u001b[39;00m \u001b[39mvehicle\u001b[39;00m\n\u001b[1;32m      4\u001b[0m \u001b[39mimport\u001b[39;00m \u001b[39mmediapy\u001b[39;00m \u001b[39mas\u001b[39;00m \u001b[39mmedia\u001b[39;00m\n",
      "\u001b[0;31mModuleNotFoundError\u001b[0m: No module named 'visualize'"
     ]
    }
   ],
   "source": [
    "import visualize\n",
    "import vehicle\n",
    "\n",
    "import mediapy as media"
   ]
  },
  {
   "cell_type": "markdown",
   "metadata": {},
   "source": [
    "Hi there! Welcome to jelyfish_can_fly \n",
    "\n",
    "An aquarium of creatures learning to fly, or at least glide...\n",
    "\n"
   ]
  },
  {
   "cell_type": "code",
   "execution_count": null,
   "metadata": {},
   "outputs": [],
   "source": []
  },
  {
   "cell_type": "markdown",
   "metadata": {},
   "source": [
    "There are 3different reproduction modes:\n",
    "- Mutation\n",
    "- Cloning\n",
    "- Cross-over"
   ]
  },
  {
   "cell_type": "markdown",
   "metadata": {},
   "source": [
    "The first mode, mutation, creates offspring that vary according to the MUTATION_RATIO, here 5%. \n",
    "\n",
    "Let's try it out!"
   ]
  },
  {
   "cell_type": "code",
   "execution_count": null,
   "metadata": {},
   "outputs": [
    {
     "data": {
      "text/html": [
       "<table class=\"show_images\" style=\"border-spacing:0px;\"><tr><td style=\"padding:1px;\"><img width=\"320\" height=\"240\" style=\"image-rendering:auto; object-fit:cover;\" src=\"data:image/png;base64,iVBORw0KGgoAAAANSUhEUgAAAUAAAADwCAIAAAD+Tyo8AAAFbklEQVR4nO3dz1LcVhbA4XOu1E0SO0nNyn6LvP9rZD+bWWSfKc/YxrTuLNQS6j+ASAZLgu8rFyXUorkV8vOR1IAjAAAAAAAAAAAAAAAAAAAAAAAAAAAAAAAAAAAAAAAAAAAAAAAAAAAAAAAAAAAAAAAAAAAAAAAAAAAAAAAAAAAAAAAAAAAAAAAAAAAAAAAAAAAAAAAAAAAAAIA3JJdeAPOVpRcA/HUC5oqSxvA2CJgrioY3QsBc1wp4CwTMdSViX/zvsXa+QlxXI3aZ5vDKCZjH3Ah43QTMY5rMH51Ir5ivDU8Q8Jr52vCgOmy8a5ol18HDBMzTfirlZw2vkoB5Qj+HDeF1EjBz/dK2Sy+BcwJmrq9dt/QSOCdgHjPex7qtVcArJGBm+XQ4LL0ErhAwT7ut9db4XSUBr1pGlBX8ioz/Gr9r5b7iqvU/lJu11uFytD7+AS/gW63f6vf/tMwi4FVrMqPWbpLx6KWTGp//i5PnFRPwepXMElH7t7XWaxnHC5d8qPXO+F0xAa/XTWZm1qHe2p9I9z/fV2tepPt/7Gw8Xf9s/K6bgNerv4PVR9s33I3Xw5m1v7n1kiWbvesn4JVqM3elRK3d0HAX0ZxlHBEvWfI343f1BLxSGdEMJ8z9yXNOMp7e1sqXKflg/G7B4i8xct0/drs2oouo4xCutR+I47vHIVxrnL7IdCzvYn/MKzkjSqaAN8EEXqmbzLMau8zxFvT9hfG16+G/P5O1uxUm8ErdlPK+aXaZ0/F7HMLjTD4dxdPBG39jJl/WzmoJeO32pbxvmjZzbLgOp9Zjt33V59+tNck1/lLJrJ+At2FfyrumaftvzHr4wjgm59gxJ1clb5yAt2Rfyj6zLaUdpu50Jsck43juKXSt9x/Odgh4k/al/FRK218hX70w7o+bXXIX0bntvEEC3rA+42a4HX12Yfx4sdP9B6/6bpaAX4Nd5o9N0168RPzk7O0iil92tWUCfj1OMp5cGMcDJd/5Qd/tE/ArtMv8oZQy3rKePDQ2/K1W3+r8Cgj41RozrsNp8/F+Va1fa3XR+zoI+PVrM29KaSNqxFe/HRa2qM38wb8zCAAAAAAAAAAAAAAAAAAAAAAAAAAAAAAAAAAAAAAAAAAsIpdewGbs9x/ev/8tomSWzCaiRDSZ03dLZpPZ78/+yIiMyMz+0Yzo95TMfmfW2kXU/m3E/fbZ/lq7iK7WQ62HiH67f/d+O6K7vf3j06ffl/5PxffTLr2ALdnvP0Y0mU1mm9lEHDemf4YDmiHg+7dD5zl0XjJzaK9vdRpkN4Y6plvroda7Wg8Rx41+u+uOGxElQsBvSFl6AZux33/ox+kwRTMzMyOPJzE5ebSvdNyT/aDuD8vsR/FxAo+jeHx02Dl+7PR5Tt4d/sRkGbwtAp5rt/s4VHQZ7WVjxwMm745nzmOW90+SGUOZ/ZPnw1c3OfnsZxsyfnMEPFffxqSQkwIj7gs83T7LdfrotNjpc45PcvaJTg7TKiHg+fb7D8PmSZxxPIN9uqezQzIjs0bUyZ5+u54eXC/OkGtARAh4ptN655okWsc91/TFTg8bt+vFkfWBjYiIKu03RsDzXV6X1tPterpd41jUtLSaOT2gjq8eDcd0Z89wcfD1dK8tidfPy0izlHLz+fM/l17F0w6H/yy9BL4rE3iWL1/+tfQS4AoBz3V39+fSS4BzAp7rcPj30kuAcwKGDRPwXC6DWSEBP8P6L4Ob5t3SS+C7EvAzuAxmbQT8DOufwLw1An4GAbM2fqTledr216WX8AR/ywAAAAAAAAAAAAAAAAAAAAAAAAAAAAAAAAAAAAAAAAAAAAAAAAAAAAAAAAAAAAAAAMCq/Q9wLYTbIE4w+gAAAABJRU5ErkJggg==\"/></td></tr></table>"
      ],
      "text/plain": [
       "<IPython.core.display.HTML object>"
      ]
     },
     "metadata": {},
     "output_type": "display_data"
    },
    {
     "data": {
      "text/html": [
       "<table class=\"show_images\" style=\"border-spacing:0px;\"><tr><td style=\"padding:1px;\"><img width=\"320\" height=\"240\" style=\"image-rendering:auto; object-fit:cover;\" src=\"data:image/png;base64,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\"/></td></tr></table>"
      ],
      "text/plain": [
       "<IPython.core.display.HTML object>"
      ]
     },
     "metadata": {},
     "output_type": "display_data"
    }
   ],
   "source": [
    "v = vehicle.Vehicle(\n",
    "    num_vertices=10,\n",
    "    max_dim_m=5,\n",
    "    )\n",
    "media.show_image(visualize.view_vehicle(*v.create_glider_from_vertices()))\n",
    "\n",
    "v2 = vehicle.Vehicle(\n",
    "    vertices=v.mutate(),\n",
    ")\n",
    "media.show_image(visualize.view_vehicle(*v2.create_glider_from_vertices()))"
   ]
  },
  {
   "cell_type": "markdown",
   "metadata": {},
   "source": [
    "These will be similar to the parents, but not the same, allowing us to whittle into adjacent niches."
   ]
  },
  {
   "cell_type": "markdown",
   "metadata": {},
   "source": [
    "Cross-over allows us to take a set of genes from one parent, and a set of genes from the other, resulting in a hybrid.\n",
    "\n",
    "The idea is to take existing \"features\" from both gliders and combine them to create new solution tips."
   ]
  },
  {
   "cell_type": "code",
   "execution_count": null,
   "metadata": {},
   "outputs": [
    {
     "data": {
      "text/html": [
       "<table class=\"show_images\" style=\"border-spacing:0px;\"><tr><td style=\"padding:1px;\"><img width=\"320\" height=\"240\" style=\"image-rendering:auto; object-fit:cover;\" src=\"data:image/png;base64,iVBORw0KGgoAAAANSUhEUgAAAUAAAADwCAIAAAD+Tyo8AAAFbklEQVR4nO3dz1LcVhbA4XOu1E0SO0nNyn6LvP9rZD+bWWSfKc/YxrTuLNQS6j+ASAZLgu8rFyXUorkV8vOR1IAjAAAAAAAAAAAAAAAAAAAAAAAAAAAAAAAAAAAAAAAAAAAAAAAAAAAAAAAAAAAAAAAAAAAAAAAAAAAAAAAAAAAAAAAAAAAAAAAAAAAAAAAAAAAAAAAAAAAAAIA3JJdeAPOVpRcA/HUC5oqSxvA2CJgrioY3QsBc1wp4CwTMdSViX/zvsXa+QlxXI3aZ5vDKCZjH3Ah43QTMY5rMH51Ir5ivDU8Q8Jr52vCgOmy8a5ol18HDBMzTfirlZw2vkoB5Qj+HDeF1EjBz/dK2Sy+BcwJmrq9dt/QSOCdgHjPex7qtVcArJGBm+XQ4LL0ErhAwT7ut9db4XSUBr1pGlBX8ioz/Gr9r5b7iqvU/lJu11uFytD7+AS/gW63f6vf/tMwi4FVrMqPWbpLx6KWTGp//i5PnFRPwepXMElH7t7XWaxnHC5d8qPXO+F0xAa/XTWZm1qHe2p9I9z/fV2tepPt/7Gw8Xf9s/K6bgNerv4PVR9s33I3Xw5m1v7n1kiWbvesn4JVqM3elRK3d0HAX0ZxlHBEvWfI343f1BLxSGdEMJ8z9yXNOMp7e1sqXKflg/G7B4i8xct0/drs2oouo4xCutR+I47vHIVxrnL7IdCzvYn/MKzkjSqaAN8EEXqmbzLMau8zxFvT9hfG16+G/P5O1uxUm8ErdlPK+aXaZ0/F7HMLjTD4dxdPBG39jJl/WzmoJeO32pbxvmjZzbLgOp9Zjt33V59+tNck1/lLJrJ+At2FfyrumaftvzHr4wjgm59gxJ1clb5yAt2Rfyj6zLaUdpu50Jsck43juKXSt9x/Odgh4k/al/FRK218hX70w7o+bXXIX0bntvEEC3rA+42a4HX12Yfx4sdP9B6/6bpaAX4Nd5o9N0168RPzk7O0iil92tWUCfj1OMp5cGMcDJd/5Qd/tE/ArtMv8oZQy3rKePDQ2/K1W3+r8Cgj41RozrsNp8/F+Va1fa3XR+zoI+PVrM29KaSNqxFe/HRa2qM38wb8zCAAAAAAAAAAAAAAAAAAAAAAAAAAAAAAAAAAAAAAAAAAsIpdewGbs9x/ev/8tomSWzCaiRDSZ03dLZpPZ78/+yIiMyMz+0Yzo95TMfmfW2kXU/m3E/fbZ/lq7iK7WQ62HiH67f/d+O6K7vf3j06ffl/5PxffTLr2ALdnvP0Y0mU1mm9lEHDemf4YDmiHg+7dD5zl0XjJzaK9vdRpkN4Y6plvroda7Wg8Rx41+u+uOGxElQsBvSFl6AZux33/ox+kwRTMzMyOPJzE5ebSvdNyT/aDuD8vsR/FxAo+jeHx02Dl+7PR5Tt4d/sRkGbwtAp5rt/s4VHQZ7WVjxwMm745nzmOW90+SGUOZ/ZPnw1c3OfnsZxsyfnMEPFffxqSQkwIj7gs83T7LdfrotNjpc45PcvaJTg7TKiHg+fb7D8PmSZxxPIN9uqezQzIjs0bUyZ5+u54eXC/OkGtARAh4ptN655okWsc91/TFTg8bt+vFkfWBjYiIKu03RsDzXV6X1tPterpd41jUtLSaOT2gjq8eDcd0Z89wcfD1dK8tidfPy0izlHLz+fM/l17F0w6H/yy9BL4rE3iWL1/+tfQS4AoBz3V39+fSS4BzAp7rcPj30kuAcwKGDRPwXC6DWSEBP8P6L4Ob5t3SS+C7EvAzuAxmbQT8DOufwLw1An4GAbM2fqTledr216WX8AR/ywAAAAAAAAAAAAAAAAAAAAAAAAAAAAAAAAAAAAAAAAAAAAAAAAAAAAAAAAAAAAAAAMCq/Q9wLYTbIE4w+gAAAABJRU5ErkJggg==\"/></td></tr></table>"
      ],
      "text/plain": [
       "<IPython.core.display.HTML object>"
      ]
     },
     "metadata": {},
     "output_type": "display_data"
    },
    {
     "data": {
      "text/html": [
       "<table class=\"show_images\" style=\"border-spacing:0px;\"><tr><td style=\"padding:1px;\"><img width=\"320\" height=\"240\" style=\"image-rendering:auto; object-fit:cover;\" src=\"data:image/png;base64,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\"/></td></tr></table>"
      ],
      "text/plain": [
       "<IPython.core.display.HTML object>"
      ]
     },
     "metadata": {},
     "output_type": "display_data"
    },
    {
     "data": {
      "text/html": [
       "<table class=\"show_images\" style=\"border-spacing:0px;\"><tr><td style=\"padding:1px;\"><img width=\"320\" height=\"240\" style=\"image-rendering:auto; object-fit:cover;\" src=\"data:image/png;base64,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\"/></td></tr></table>"
      ],
      "text/plain": [
       "<IPython.core.display.HTML object>"
      ]
     },
     "metadata": {},
     "output_type": "display_data"
    }
   ],
   "source": [
    "# Here is an example of cross-over reproduction:\n",
    "\n",
    "v1 = vehicle.Vehicle(\n",
    "    num_vertices=10,\n",
    "    max_dim_m=0.5,\n",
    "    )\n",
    "media.show_image(visualize.view_vehicle(*v.create_glider_from_vertices()))\n",
    "\n",
    "v2 = vehicle.Vehicle(\n",
    "    num_vertices=10,\n",
    "    max_dim_m=5.0,\n",
    ")\n",
    "media.show_image(visualize.view_vehicle(*v2.create_glider_from_vertices()))\n",
    "\n",
    "v3 = vehicle.Vehicle(\n",
    "    vertices=v2.cross_over(v1),\n",
    ")\n",
    "media.show_image(visualize.view_vehicle(*v3.create_glider_from_vertices()))"
   ]
  }
 ],
 "metadata": {
  "kernelspec": {
   "display_name": ".env",
   "language": "python",
   "name": "python3"
  },
  "language_info": {
   "codemirror_mode": {
    "name": "ipython",
    "version": 3
   },
   "file_extension": ".py",
   "mimetype": "text/x-python",
   "name": "python",
   "nbconvert_exporter": "python",
   "pygments_lexer": "ipython3",
   "version": "3.11.0"
  },
  "orig_nbformat": 4
 },
 "nbformat": 4,
 "nbformat_minor": 2
}
