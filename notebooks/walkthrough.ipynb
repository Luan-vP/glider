{
 "cells": [
  {
   "cell_type": "code",
   "execution_count": 6,
   "metadata": {},
   "outputs": [],
   "source": [
    "# from pathlib import Path\n",
    "\n",
    "# repository_path = Path('..').resolve()\n",
    "\n",
    "# !pip install -Uqq {repository_path}\n",
    "# %pip install -e ..\n",
    "    \n",
    "\n",
    "\n",
    "# !export PYTHONPATH=$PYTHONPATH:{repository_path}\n",
    "# !echo $PYTHONPATH"
   ]
  },
  {
   "cell_type": "markdown",
   "metadata": {},
   "source": [
    "<a target=\"_blank\" href=\"https://colab.research.google.com/github/Luan-vP/glider/blob/main/walkthrough.ipynb\">\n",
    "  <img src=\"https://colab.research.google.com/assets/colab-badge.svg\" alt=\"Open In Colab\"/>\n",
    "</a>"
   ]
  },
  {
   "cell_type": "code",
   "execution_count": 7,
   "metadata": {},
   "outputs": [],
   "source": [
    "import glider.visualize as visualize\n",
    "import glider.vehicle as vehicle\n",
    "\n",
    "import mediapy as media"
   ]
  },
  {
   "cell_type": "markdown",
   "metadata": {},
   "source": [
    "Hi there! Welcome to jelyfish_can_fly \n",
    "\n",
    "An aquarium of creatures learning to fly, or at least glide...\n",
    "\n"
   ]
  },
  {
   "cell_type": "markdown",
   "metadata": {},
   "source": [
    "There are 3 different reproduction modes:\n",
    "- Mutation\n",
    "- Cloning\n",
    "- Cross-over"
   ]
  },
  {
   "cell_type": "markdown",
   "metadata": {},
   "source": [
    "The first mode, mutation, creates offspring that vary according to the MUTATION_RATIO, here 5%. \n",
    "\n",
    "Let's try it out!"
   ]
  },
  {
   "cell_type": "code",
   "execution_count": 8,
   "metadata": {},
   "outputs": [
    {
     "data": {
      "text/html": [
       "<table class=\"show_images\" style=\"border-spacing:0px;\"><tr><td style=\"padding:1px;\"><img width=\"320\" height=\"240\" style=\"image-rendering:auto; object-fit:cover;\" src=\"data:image/png;base64,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\"/></td></tr></table>"
      ],
      "text/plain": [
       "<IPython.core.display.HTML object>"
      ]
     },
     "metadata": {},
     "output_type": "display_data"
    },
    {
     "data": {
      "text/html": [
       "<table class=\"show_images\" style=\"border-spacing:0px;\"><tr><td style=\"padding:1px;\"><img width=\"320\" height=\"240\" style=\"image-rendering:auto; object-fit:cover;\" src=\"data:image/png;base64,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\"/></td></tr></table>"
      ],
      "text/plain": [
       "<IPython.core.display.HTML object>"
      ]
     },
     "metadata": {},
     "output_type": "display_data"
    }
   ],
   "source": [
    "v = vehicle.Vehicle(\n",
    "    num_vertices=10,\n",
    "    max_dim_m=5,\n",
    "    )\n",
    "media.show_image(visualize.view_vehicle(*v.create_glider_from_vertices()))\n",
    "\n",
    "v2 = vehicle.Vehicle(\n",
    "    vertices=v.mutate(),\n",
    ")\n",
    "media.show_image(visualize.view_vehicle(*v2.create_glider_from_vertices()))"
   ]
  },
  {
   "cell_type": "markdown",
   "metadata": {},
   "source": [
    "These will be similar to the parents, but not the same, allowing us to whittle into adjacent niches."
   ]
  },
  {
   "cell_type": "markdown",
   "metadata": {},
   "source": [
    "Cross-over allows us to take a set of genes from one parent, and a set of genes from the other, resulting in a hybrid.\n",
    "\n",
    "The idea is to take existing \"features\" from both gliders and combine them to create new solution tips."
   ]
  },
  {
   "cell_type": "code",
   "execution_count": 9,
   "metadata": {},
   "outputs": [
    {
     "data": {
      "text/html": [
       "<table class=\"show_images\" style=\"border-spacing:0px;\"><tr><td style=\"padding:1px;\"><img width=\"320\" height=\"240\" style=\"image-rendering:auto; object-fit:cover;\" src=\"data:image/png;base64,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\"/></td></tr></table>"
      ],
      "text/plain": [
       "<IPython.core.display.HTML object>"
      ]
     },
     "metadata": {},
     "output_type": "display_data"
    },
    {
     "data": {
      "text/html": [
       "<table class=\"show_images\" style=\"border-spacing:0px;\"><tr><td style=\"padding:1px;\"><img width=\"320\" height=\"240\" style=\"image-rendering:auto; object-fit:cover;\" src=\"data:image/png;base64,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\"/></td></tr></table>"
      ],
      "text/plain": [
       "<IPython.core.display.HTML object>"
      ]
     },
     "metadata": {},
     "output_type": "display_data"
    },
    {
     "data": {
      "text/html": [
       "<table class=\"show_images\" style=\"border-spacing:0px;\"><tr><td style=\"padding:1px;\"><img width=\"320\" height=\"240\" style=\"image-rendering:auto; object-fit:cover;\" src=\"data:image/png;base64,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\"/></td></tr></table>"
      ],
      "text/plain": [
       "<IPython.core.display.HTML object>"
      ]
     },
     "metadata": {},
     "output_type": "display_data"
    }
   ],
   "source": [
    "# Here is an example of cross-over reproduction:\n",
    "\n",
    "v1 = vehicle.Vehicle(\n",
    "    num_vertices=10,\n",
    "    max_dim_m=0.5,\n",
    "    )\n",
    "media.show_image(visualize.view_vehicle(*v.create_glider_from_vertices()))\n",
    "\n",
    "v2 = vehicle.Vehicle(\n",
    "    num_vertices=10,\n",
    "    max_dim_m=5.0,\n",
    ")\n",
    "media.show_image(visualize.view_vehicle(*v2.create_glider_from_vertices()))\n",
    "\n",
    "v3 = vehicle.Vehicle(\n",
    "    vertices=v2.cross_over(v1),\n",
    ")\n",
    "media.show_image(visualize.view_vehicle(*v3.create_glider_from_vertices()))"
   ]
  },
  {
   "cell_type": "code",
   "execution_count": 10,
   "metadata": {},
   "outputs": [
    {
     "name": "stdout",
     "output_type": "stream",
     "text": [
      "Iteration: 0\n",
      "Fitness: 20.5949351273273\n",
      "Iteration: 10\n",
      "Fitness: 28.058959168330702\n",
      "Iteration: 20\n",
      "Fitness: 38.811099427703454\n",
      "Iteration: 30\n",
      "Fitness: 53.38011655861015\n",
      "Iteration: 40\n",
      "Fitness: 58.86369047482251\n",
      "Iteration: 50\n",
      "Fitness: 63.30827341777321\n",
      "Iteration: 60\n",
      "Fitness: 63.30827341777321\n",
      "Iteration: 70\n",
      "Fitness: 71.86964650286289\n",
      "Iteration: 80\n",
      "Fitness: 71.86964650286289\n",
      "Iteration: 90\n",
      "Fitness: 71.86964650286289\n",
      "Iteration: 100\n",
      "Fitness: 71.86964650286289\n",
      "Iteration: 110\n",
      "Fitness: 71.86964650286289\n",
      "Iteration: 120\n",
      "Fitness: 71.86964650286289\n",
      "Iteration: 130\n",
      "Fitness: 71.86964650286289\n",
      "Iteration: 140\n",
      "Fitness: 71.91662101422618\n",
      "Iteration: 150\n",
      "Fitness: 71.91662101422618\n",
      "Iteration: 160\n",
      "Fitness: 74.3056807471088\n",
      "Iteration: 170\n",
      "Fitness: 74.3056807471088\n",
      "Iteration: 180\n",
      "Fitness: 76.35167266330131\n",
      "Iteration: 190\n",
      "Fitness: 76.35167266330131\n",
      "Iteration: 200\n",
      "Fitness: 76.35167266330131\n",
      "Iteration: 210\n",
      "Fitness: 81.6569921806527\n",
      "Iteration: 220\n",
      "Fitness: 81.6569921806527\n",
      "Iteration: 230\n",
      "Fitness: 81.6569921806527\n",
      "Iteration: 240\n",
      "Fitness: 83.98517409303525\n",
      "Iteration: 250\n",
      "Fitness: 83.98517409303525\n",
      "Iteration: 260\n",
      "Fitness: 83.98517409303525\n",
      "Iteration: 270\n",
      "Fitness: 83.98517409303525\n",
      "Iteration: 280\n",
      "Fitness: 90.4096550788391\n",
      "Iteration: 290\n",
      "Fitness: 90.4096550788391\n"
     ]
    }
   ],
   "source": [
    "from glider.optimization import iterate_population, fitness_func\n",
    "from glider.visualize import view_vehicle\n",
    "\n",
    "frames = []\n",
    "\n",
    "population = [] \n",
    "for i in range(300):\n",
    "    population = iterate_population(\n",
    "        population,\n",
    "        population_size = 100,\n",
    "        survival_weight = 0.4,\n",
    "        # cloning_weight = 0.4,\n",
    "    )\n",
    "\n",
    "    if i % 10 == 0:\n",
    "        print(\"Iteration:\", i)\n",
    "        winning_genes = population[0]\n",
    "        print(\"Fitness:\", fitness_func(winning_genes))\n",
    "        # vehicle.Vehicle(vertices=winning_genes).show()\n",
    "        frames.append(view_vehicle(*vehicle.Vehicle(vertices=winning_genes).create_glider_from_vertices()))\n"
   ]
  },
  {
   "cell_type": "code",
   "execution_count": 11,
   "metadata": {},
   "outputs": [
    {
     "data": {
      "text/html": [
       "<table class=\"show_videos\" style=\"border-spacing:0px;\"><tr><td style=\"padding:1px;\"><video controls width=\"320\" height=\"240\" style=\"object-fit:cover;\" loop autoplay muted>\n",
       "      <source src=\"data:video/mp4;base64,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\" type=\"video/mp4\"/>\n",
       "      This browser does not support the video tag.\n",
       "      </video></td></tr></table>"
      ],
      "text/plain": [
       "<IPython.core.display.HTML object>"
      ]
     },
     "metadata": {},
     "output_type": "display_data"
    }
   ],
   "source": [
    "media.show_video(frames, fps=15)"
   ]
  },
  {
   "cell_type": "code",
   "execution_count": 12,
   "metadata": {},
   "outputs": [
    {
     "data": {
      "text/html": [
       "<table class=\"show_images\" style=\"border-spacing:0px;\"><tr><td style=\"padding:1px;\"><img width=\"320\" height=\"240\" style=\"image-rendering:auto; object-fit:cover;\" src=\"data:image/png;base64,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\"/></td></tr></table>"
      ],
      "text/plain": [
       "<IPython.core.display.HTML object>"
      ]
     },
     "metadata": {},
     "output_type": "display_data"
    }
   ],
   "source": [
    "v = vehicle.Vehicle(vertices=population[0])\n",
    "v.show()"
   ]
  },
  {
   "cell_type": "code",
   "execution_count": 13,
   "metadata": {},
   "outputs": [],
   "source": [
    "import glider.simulation as sim\n",
    "\n",
    "glider_xml, glider_asset = v.create_glider_from_vertices()\n",
    "world_xml = sim.drop_test_glider(glider_xml, glider_asset)\n",
    "\n",
    "from pathlib import Path\n",
    "\n",
    "p = Path('../assets/worlds/drop_test.xml').resolve()\n",
    "p.parent.mkdir(parents=True, exist_ok=True)\n",
    "\n",
    "with open('../assets/worlds/drop_test.xml', 'w') as f:\n",
    "    f.write(world_xml)"
   ]
  }
 ],
 "metadata": {
  "kernelspec": {
   "display_name": ".env",
   "language": "python",
   "name": "python3"
  },
  "language_info": {
   "codemirror_mode": {
    "name": "ipython",
    "version": 3
   },
   "file_extension": ".py",
   "mimetype": "text/x-python",
   "name": "python",
   "nbconvert_exporter": "python",
   "pygments_lexer": "ipython3",
   "version": "3.11.0"
  },
  "orig_nbformat": 4
 },
 "nbformat": 4,
 "nbformat_minor": 2
}
