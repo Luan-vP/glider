{
 "cells": [
  {
   "cell_type": "code",
   "execution_count": 1,
   "metadata": {},
   "outputs": [
    {
     "name": "stdout",
     "output_type": "stream",
     "text": [
      "Obtaining file:///Users/luan/Developer/glider\n",
      "  Installing build dependencies ... \u001b[?25ldone\n",
      "\u001b[?25h  Checking if build backend supports build_editable ... \u001b[?25ldone\n",
      "\u001b[?25h  Getting requirements to build editable ... \u001b[?25ldone\n",
      "\u001b[?25h  Preparing editable metadata (pyproject.toml) ... \u001b[?25ldone\n",
      "\u001b[?25hBuilding wheels for collected packages: glider\n",
      "  Building editable for glider (pyproject.toml) ... \u001b[?25ldone\n",
      "\u001b[?25h  Created wheel for glider: filename=glider-0.0.0-0.editable-py3-none-any.whl size=1136 sha256=04594367afd6312a60b49b23842addf2bf469b3e83f6b7f06d2cfbc40ee8605b\n",
      "  Stored in directory: /private/var/folders/c9/r_xhlt7x1s1dh7xsyh6t4sgr0000gn/T/pip-ephem-wheel-cache-5iaqlpfr/wheels/b3/65/77/965fc552ac1cb246c95128c79c3575880f5b929eb13fb00638\n",
      "Successfully built glider\n",
      "Installing collected packages: glider\n",
      "  Attempting uninstall: glider\n",
      "    Found existing installation: glider 0.0.0\n",
      "    Uninstalling glider-0.0.0:\n",
      "      Successfully uninstalled glider-0.0.0\n",
      "Successfully installed glider-0.0.0\n",
      "\n",
      "\u001b[1m[\u001b[0m\u001b[34;49mnotice\u001b[0m\u001b[1;39;49m]\u001b[0m\u001b[39;49m A new release of pip available: \u001b[0m\u001b[31;49m22.3\u001b[0m\u001b[39;49m -> \u001b[0m\u001b[32;49m23.2.1\u001b[0m\n",
      "\u001b[1m[\u001b[0m\u001b[34;49mnotice\u001b[0m\u001b[1;39;49m]\u001b[0m\u001b[39;49m To update, run: \u001b[0m\u001b[32;49mpip install --upgrade pip\u001b[0m\n",
      "Note: you may need to restart the kernel to use updated packages.\n"
     ]
    }
   ],
   "source": [
    "# from pathlib import Path\n",
    "\n",
    "# repository_path = Path('..').resolve()\n",
    "\n",
    "# !pip install -Uqq {repository_path}\n",
    "%pip install -e ..\n",
    "    \n",
    "\n",
    "\n",
    "# !export PYTHONPATH=$PYTHONPATH:{repository_path}\n",
    "# !echo $PYTHONPATH"
   ]
  },
  {
   "cell_type": "markdown",
   "metadata": {},
   "source": [
    "<a target=\"_blank\" href=\"https://colab.research.google.com/github/Luan-vP/glider/blob/main/walkthrough.ipynb\">\n",
    "  <img src=\"https://colab.research.google.com/assets/colab-badge.svg\" alt=\"Open In Colab\"/>\n",
    "</a>"
   ]
  },
  {
   "cell_type": "code",
   "execution_count": 2,
   "metadata": {},
   "outputs": [],
   "source": [
    "import glider.visualize as visualize\n",
    "import glider.vehicle as vehicle\n",
    "\n",
    "import mediapy as media"
   ]
  },
  {
   "cell_type": "markdown",
   "metadata": {},
   "source": [
    "Hi there! Welcome to jelyfish_can_fly \n",
    "\n",
    "An aquarium of creatures learning to fly, or at least glide...\n",
    "\n"
   ]
  },
  {
   "cell_type": "markdown",
   "metadata": {},
   "source": [
    "There are 3 different reproduction modes:\n",
    "- Mutation\n",
    "- Cloning\n",
    "- Cross-over"
   ]
  },
  {
   "cell_type": "markdown",
   "metadata": {},
   "source": [
    "The first mode, mutation, creates offspring that vary according to the MUTATION_RATIO, here 5%. \n",
    "\n",
    "Let's try it out!"
   ]
  },
  {
   "cell_type": "code",
   "execution_count": 3,
   "metadata": {},
   "outputs": [
    {
     "data": {
      "text/html": [
       "<table class=\"show_images\" style=\"border-spacing:0px;\"><tr><td style=\"padding:1px;\"><img width=\"320\" height=\"240\" style=\"image-rendering:auto; object-fit:cover;\" src=\"data:image/png;base64,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\"/></td></tr></table>"
      ],
      "text/plain": [
       "<IPython.core.display.HTML object>"
      ]
     },
     "metadata": {},
     "output_type": "display_data"
    },
    {
     "data": {
      "text/html": [
       "<table class=\"show_images\" style=\"border-spacing:0px;\"><tr><td style=\"padding:1px;\"><img width=\"320\" height=\"240\" style=\"image-rendering:auto; object-fit:cover;\" src=\"data:image/png;base64,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\"/></td></tr></table>"
      ],
      "text/plain": [
       "<IPython.core.display.HTML object>"
      ]
     },
     "metadata": {},
     "output_type": "display_data"
    }
   ],
   "source": [
    "v = vehicle.Vehicle(\n",
    "    num_vertices=10,\n",
    "    max_dim_m=5,\n",
    "    )\n",
    "media.show_image(visualize.view_vehicle(*v.create_glider_from_vertices()))\n",
    "\n",
    "v2 = vehicle.Vehicle(\n",
    "    vertices=v.mutate(),\n",
    ")\n",
    "media.show_image(visualize.view_vehicle(*v2.create_glider_from_vertices()))"
   ]
  },
  {
   "cell_type": "markdown",
   "metadata": {},
   "source": [
    "These will be similar to the parents, but not the same, allowing us to whittle into adjacent niches."
   ]
  },
  {
   "cell_type": "markdown",
   "metadata": {},
   "source": [
    "Cross-over allows us to take a set of genes from one parent, and a set of genes from the other, resulting in a hybrid.\n",
    "\n",
    "The idea is to take existing \"features\" from both gliders and combine them to create new solution tips."
   ]
  },
  {
   "cell_type": "code",
   "execution_count": 4,
   "metadata": {},
   "outputs": [
    {
     "data": {
      "text/html": [
       "<table class=\"show_images\" style=\"border-spacing:0px;\"><tr><td style=\"padding:1px;\"><img width=\"320\" height=\"240\" style=\"image-rendering:auto; object-fit:cover;\" src=\"data:image/png;base64,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\"/></td></tr></table>"
      ],
      "text/plain": [
       "<IPython.core.display.HTML object>"
      ]
     },
     "metadata": {},
     "output_type": "display_data"
    },
    {
     "data": {
      "text/html": [
       "<table class=\"show_images\" style=\"border-spacing:0px;\"><tr><td style=\"padding:1px;\"><img width=\"320\" height=\"240\" style=\"image-rendering:auto; object-fit:cover;\" src=\"data:image/png;base64,iVBORw0KGgoAAAANSUhEUgAAAUAAAADwCAIAAAD+Tyo8AAAHvklEQVR4nO3d4XLbxhUG0HsBUvYkniZtmnEzfYe+/3P0DZx2mh9xOslMYosWie0PCNCCpCwxbgyCPGc4MrCEKcDyp7u7XAkRAAAAAAAAAAAAAAAAAAAAAAAAAAAAAAAAAAAAAAAAAAAAAAAAAAAAAAAAAAAAAAAAAAAAAAAAAAAAAAAAAAAAAAAAAAAAAAAAAAAAAAAAAAAA8AmauU+Ami8HJ2gimsw2c+4T4d5q7hNgMdqIzGwym4hdKXOfDhEqMM+REW1Ek9lk9hs3jf85Z0EF5gnZR7f6mL7xnw1fCD6mOZbeNuKlCnwefBl4VBORQ5+5GUa/4+6XbTv3CSLAPOJ+wrke+lZJbiNeCfAZEGCOqKtuX4QPR8JNxJ9keG4msZjIoec8ievQl35oHxrnPt9rpwLzIKt+cvtIeuu+9NcrBWBmAsy9nA5xc6y005FwTlv+sl7PfeJXTYCJ2Avq8HEy/1zV3roaf6MIz0qAr924yqqtstpMF07u9aX3qvG3ivB8fPu8apPxbdVtHnf3+tL3azmGajweMPd1XC8V+EodFt42s60a28xV/+z0HeBmmt4m8/XNzdxXc70E+Bo1VUrbcfQ7bRyju6qT/MjM1ncyPBNd6OsyvlE06SQ/1nisIx31RNfQ+PcXL3748GHma7tKRi9XZD+Nw88VHW0c01uv3BhD3h9Wv2/8n83m35vN3Jd4dVTgq3Ba4a1mquppraMrsXI45uvVSoA/PwG+fJNy+rsK75MrKzPiz6vV16vVz9vt3Jd7XQT4kuU0up9UeKsfBt7L87aUbSnvu056Pz9j4Iv1KYX3aFDrl9qWsiuliXjfdSXi7d3d27u7ua/4GgnwBcqD6DbPGwYfBrUuvNuIXSlN5ma3azLH32onvTMS4Euzv6zqEwpvZnZ9pc3cdF3/xu/ep/t+s3m3281ypYQAX5LmILonFd6xbu8iulLazE3XrcZfYXewYFLhPQcCfCFOKryHjaWUXUQbcVdKm5nD27z3j8wmov5N0NJ7JgR48X534e0iSkQTse26fjFGDMW2GaI77krveRLgBcu99FbRrWts/Z5QlNLl/a0VmqpvnFVXeS+99X+Rd1339u7OoPd8CPBSPb/wdqVERJPZd5If/nq1lGqMfT6eXoX3DAnw8jyn8EZEiWgjdkNW69J6vORO07s3aSW950mAF2Z/WVWV3hgGsV0V2sOO8cfTO+7Wn1R6z5YAL8bRwhtj3kqJg3A+P739Sx2m913XfX97+9mvleeyFnoZ9ka8EZER3fgNuJTHQvtEesfdagw8UnjPnwCfuzpvzTC4zeHj4ZzTY8PaI5NVB+ltqs8rvYsgwGdtnEzKvdBW2XtOeo+0j2Ge9qJ7byyQXAgBPl859JAPI3qY3v0O81Pp3etXj+l913VvDHqXQ4DP19408v8lvY8ttOq9vbv7Ubd5UZqnD2EmXUQ8O7358fQOSzuk98KowGetlBJN85z0HpmUOmyfpreeczboXSjvA5+7VeY6Mw7CeWp6Dxda9V97hXfRdKHP3baU7VhyT09vM01vI72XRYAX4K7r9sL5ZHqb6WEPi6Wl97IYAy/Dh1JeVnF9NL0fXyY5bL/ruh/9VOBFMAZejJdN87JpHpuUOtL+yEIrhfeS6EIvxm3X7Uo5Nb0pvRdNgJfktus+nt569Cu910AXemG+bNsv2vZwIeTRZZJj1C2QvFQCvDyv2vZV2z5nmWQfaYX3gulCL8+vu5300hPgRfptt3tskXO9VOPNZiO9l00Xeqm+Wq2+Wq32lkmOBfm9Qe91EOAFe31z80XTTNKbmRE/6TZfDV3oBftlu50sk8xspPfKCPCC3Xbdz9ttnV6D3mujC71436zXf12v/6vwwkJ9u17PfQoAAAAAAAAAAAAAAAAAAAAAAAAAAADAk/xi99O8evWPm5vvItqmaSOaiDazyWwz++1xo4loxtueZGZmW98CpX+qlC6ilNJF9I9SStc3RnSllIhd/2wpXSm7iF0p/WPS+OHDD7/++s+5/22YwWruE1iY9fpvNzffZbaZq8xVRJu5apq23xge7RDsPsZ1nu9D3rf0aeyjGNHVyeyjO0R0W8p2iO79dsS263albPsAz/0PwzzcG+k0L168Hu6hncPdeWN6b8CIyMzo7xk4vQV3Mx7Q932Gm/s21W4O3aIcjcffv/TDduhDXTkBPlVWj5gmOacHxNGnMpuDu/mOUXwI9l4y66zm8Oe4fXf30x970ZwrAT7Bzc3rYXOIZMQ0aR+rh0NZHnURJbMcHhZRIvbbx5ZSJrtcMwE+wc3N67FmRsS00o7Ginpc/9SxY8phnocwTw47fPHM9pmXwIUR4BOs16+nDWOdLHVLb3rMeFg33S3j/POxg0t1TKlfv6rGR2s118Is9Ak2mzcRZZis2huvZtUe9UTUdDfqGakxlqXENLcxfAso1TFlGuDxsNJ1t3/wpXOmBPgEXXfbde/nPgt4oAt9gtvb7+c+hePa9su5T4F5CDAsmACfZrP519ynAA8EGBZMgE9ztsNgrpMAw4IJ8MkMgzkf3gc+2Xb7y9ynsG+3+23uUwAAAAAAAAAAAAAAAAAAAAAAAAAAAAAAAAAAAAAAAAAAAAAAAAAAAAAAAAAAAAAAAAAAAACA2v8APGhI85JLZtIAAAAASUVORK5CYII=\"/></td></tr></table>"
      ],
      "text/plain": [
       "<IPython.core.display.HTML object>"
      ]
     },
     "metadata": {},
     "output_type": "display_data"
    },
    {
     "data": {
      "text/html": [
       "<table class=\"show_images\" style=\"border-spacing:0px;\"><tr><td style=\"padding:1px;\"><img width=\"320\" height=\"240\" style=\"image-rendering:auto; object-fit:cover;\" src=\"data:image/png;base64,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\"/></td></tr></table>"
      ],
      "text/plain": [
       "<IPython.core.display.HTML object>"
      ]
     },
     "metadata": {},
     "output_type": "display_data"
    }
   ],
   "source": [
    "# Here is an example of cross-over reproduction:\n",
    "\n",
    "v1 = vehicle.Vehicle(\n",
    "    num_vertices=10,\n",
    "    max_dim_m=0.5,\n",
    "    )\n",
    "media.show_image(visualize.view_vehicle(*v.create_glider_from_vertices()))\n",
    "\n",
    "v2 = vehicle.Vehicle(\n",
    "    num_vertices=10,\n",
    "    max_dim_m=5.0,\n",
    ")\n",
    "media.show_image(visualize.view_vehicle(*v2.create_glider_from_vertices()))\n",
    "\n",
    "v3 = vehicle.Vehicle(\n",
    "    vertices=v2.cross_over(v1),\n",
    ")\n",
    "media.show_image(visualize.view_vehicle(*v3.create_glider_from_vertices()))"
   ]
  },
  {
   "cell_type": "code",
   "execution_count": 5,
   "metadata": {},
   "outputs": [
    {
     "name": "stdout",
     "output_type": "stream",
     "text": [
      "Iteration: 0\n",
      "Fitness: 1.8983541652515574\n"
     ]
    },
    {
     "data": {
      "text/html": [
       "<table class=\"show_images\" style=\"border-spacing:0px;\"><tr><td style=\"padding:1px;\"><img width=\"320\" height=\"240\" style=\"image-rendering:auto; object-fit:cover;\" src=\"data:image/png;base64,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\"/></td></tr></table>"
      ],
      "text/plain": [
       "<IPython.core.display.HTML object>"
      ]
     },
     "metadata": {},
     "output_type": "display_data"
    },
    {
     "name": "stdout",
     "output_type": "stream",
     "text": [
      "Iteration: 50\n",
      "Fitness: 3.6211088607077735\n"
     ]
    },
    {
     "data": {
      "text/html": [
       "<table class=\"show_images\" style=\"border-spacing:0px;\"><tr><td style=\"padding:1px;\"><img width=\"320\" height=\"240\" style=\"image-rendering:auto; object-fit:cover;\" src=\"data:image/png;base64,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\"/></td></tr></table>"
      ],
      "text/plain": [
       "<IPython.core.display.HTML object>"
      ]
     },
     "metadata": {},
     "output_type": "display_data"
    }
   ],
   "source": [
    "from glider.optimization import iterate_population, fitness_func\n",
    "\n",
    "population = [] \n",
    "for i in range(200):\n",
    "    population = iterate_population(\n",
    "        population,\n",
    "        population_size = 100,\n",
    "        survival_weight = 0.4,\n",
    "        # cloning_weight = 0.4,\n",
    "    )\n",
    "\n",
    "    if i % 50 == 0:\n",
    "        print(\"Iteration:\", i)\n",
    "        winning_genes = population[0]\n",
    "        print(\"Fitness:\", fitness_func(winning_genes))\n",
    "        vehicle.Vehicle(vertices=winning_genes).show()"
   ]
  },
  {
   "cell_type": "code",
   "execution_count": null,
   "metadata": {},
   "outputs": [],
   "source": []
  }
 ],
 "metadata": {
  "kernelspec": {
   "display_name": ".env",
   "language": "python",
   "name": "python3"
  },
  "language_info": {
   "codemirror_mode": {
    "name": "ipython",
    "version": 3
   },
   "file_extension": ".py",
   "mimetype": "text/x-python",
   "name": "python",
   "nbconvert_exporter": "python",
   "pygments_lexer": "ipython3",
   "version": "3.11.0"
  },
  "orig_nbformat": 4
 },
 "nbformat": 4,
 "nbformat_minor": 2
}
