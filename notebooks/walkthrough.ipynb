{
 "cells": [
  {
   "cell_type": "code",
   "execution_count": 1,
   "metadata": {},
   "outputs": [
    {
     "name": "stdout",
     "output_type": "stream",
     "text": [
      "Obtaining file:///Users/luan/Developer/glider\n",
      "  Installing build dependencies ... \u001b[?25ldone\n",
      "\u001b[?25h  Checking if build backend supports build_editable ... \u001b[?25ldone\n",
      "\u001b[?25h  Getting requirements to build editable ... \u001b[?25ldone\n",
      "\u001b[?25h  Preparing editable metadata (pyproject.toml) ... \u001b[?25ldone\n",
      "\u001b[?25hBuilding wheels for collected packages: glider\n",
      "  Building editable for glider (pyproject.toml) ... \u001b[?25ldone\n",
      "\u001b[?25h  Created wheel for glider: filename=glider-0.0.0-0.editable-py3-none-any.whl size=1136 sha256=5302cd0af855610df29ff16567833bb81dd92a411e5741b3a844e04f2b4f371f\n",
      "  Stored in directory: /private/var/folders/c9/r_xhlt7x1s1dh7xsyh6t4sgr0000gn/T/pip-ephem-wheel-cache-ke6q6sf5/wheels/b3/65/77/965fc552ac1cb246c95128c79c3575880f5b929eb13fb00638\n",
      "Successfully built glider\n",
      "Installing collected packages: glider\n",
      "  Attempting uninstall: glider\n",
      "    Found existing installation: glider 0.0.0\n",
      "    Uninstalling glider-0.0.0:\n",
      "      Successfully uninstalled glider-0.0.0\n",
      "Successfully installed glider-0.0.0\n",
      "\n",
      "\u001b[1m[\u001b[0m\u001b[34;49mnotice\u001b[0m\u001b[1;39;49m]\u001b[0m\u001b[39;49m A new release of pip available: \u001b[0m\u001b[31;49m22.3\u001b[0m\u001b[39;49m -> \u001b[0m\u001b[32;49m23.2.1\u001b[0m\n",
      "\u001b[1m[\u001b[0m\u001b[34;49mnotice\u001b[0m\u001b[1;39;49m]\u001b[0m\u001b[39;49m To update, run: \u001b[0m\u001b[32;49mpip install --upgrade pip\u001b[0m\n",
      "Note: you may need to restart the kernel to use updated packages.\n"
     ]
    }
   ],
   "source": [
    "# from pathlib import Path\n",
    "\n",
    "# repository_path = Path('..').resolve()\n",
    "\n",
    "# !pip install -Uqq {repository_path}\n",
    "%pip install -e ..\n",
    "    \n",
    "\n",
    "\n",
    "# !export PYTHONPATH=$PYTHONPATH:{repository_path}\n",
    "# !echo $PYTHONPATH"
   ]
  },
  {
   "cell_type": "markdown",
   "metadata": {},
   "source": [
    "<a target=\"_blank\" href=\"https://colab.research.google.com/github/Luan-vP/glider/blob/main/walkthrough.ipynb\">\n",
    "  <img src=\"https://colab.research.google.com/assets/colab-badge.svg\" alt=\"Open In Colab\"/>\n",
    "</a>"
   ]
  },
  {
   "cell_type": "code",
   "execution_count": 2,
   "metadata": {},
   "outputs": [
    {
     "ename": "ModuleNotFoundError",
     "evalue": "No module named 'visualize'",
     "output_type": "error",
     "traceback": [
      "\u001b[0;31m---------------------------------------------------------------------------\u001b[0m",
      "\u001b[0;31mModuleNotFoundError\u001b[0m                       Traceback (most recent call last)",
      "Cell \u001b[0;32mIn[2], line 1\u001b[0m\n\u001b[0;32m----> 1\u001b[0m \u001b[39mimport\u001b[39;00m \u001b[39mglider\u001b[39;00m\u001b[39m.\u001b[39;00m\u001b[39mvisualize\u001b[39;00m \u001b[39mas\u001b[39;00m \u001b[39mvisualize\u001b[39;00m\n\u001b[1;32m      2\u001b[0m \u001b[39mimport\u001b[39;00m \u001b[39mglider\u001b[39;00m\u001b[39m.\u001b[39;00m\u001b[39mvehicle\u001b[39;00m \u001b[39mas\u001b[39;00m \u001b[39mvehicle\u001b[39;00m\n\u001b[1;32m      4\u001b[0m \u001b[39mimport\u001b[39;00m \u001b[39mmediapy\u001b[39;00m \u001b[39mas\u001b[39;00m \u001b[39mmedia\u001b[39;00m\n",
      "File \u001b[0;32m~/Developer/glider/src/glider/visualize.py:5\u001b[0m\n\u001b[1;32m      2\u001b[0m \u001b[39mimport\u001b[39;00m \u001b[39mmujoco\u001b[39;00m\n\u001b[1;32m      3\u001b[0m \u001b[39mimport\u001b[39;00m \u001b[39mnumpy\u001b[39;00m \u001b[39mas\u001b[39;00m \u001b[39mnp\u001b[39;00m\n\u001b[0;32m----> 5\u001b[0m \u001b[39mfrom\u001b[39;00m \u001b[39m.\u001b[39;00m\u001b[39msimulation\u001b[39;00m \u001b[39mimport\u001b[39;00m wrap_glider\n\u001b[1;32m      8\u001b[0m \u001b[39mdef\u001b[39;00m \u001b[39mrender_initial_pixels\u001b[39m(\n\u001b[1;32m      9\u001b[0m     model,\n\u001b[1;32m     10\u001b[0m     data,\n\u001b[1;32m     11\u001b[0m ) \u001b[39m-\u001b[39m\u001b[39m>\u001b[39m np\u001b[39m.\u001b[39mndarray:\n\u001b[1;32m     12\u001b[0m     renderer \u001b[39m=\u001b[39m mujoco\u001b[39m.\u001b[39mRenderer(model)\n",
      "File \u001b[0;32m~/Developer/glider/src/glider/simulation.py:2\u001b[0m\n\u001b[1;32m      1\u001b[0m \u001b[39mfrom\u001b[39;00m \u001b[39m.\u001b[39;00m\u001b[39mconstants\u001b[39;00m \u001b[39mimport\u001b[39;00m AIR_DENSITY, AIR_VISCOSITY\n\u001b[0;32m----> 2\u001b[0m \u001b[39mfrom\u001b[39;00m \u001b[39m.\u001b[39;00m\u001b[39mvehicle\u001b[39;00m \u001b[39mimport\u001b[39;00m create_glider_xml\n\u001b[1;32m      5\u001b[0m \u001b[39mdef\u001b[39;00m \u001b[39mwrap_glider\u001b[39m(\n\u001b[1;32m      6\u001b[0m     glider_xml: \u001b[39mstr\u001b[39m \u001b[39m|\u001b[39m \u001b[39mNone\u001b[39;00m \u001b[39m=\u001b[39m \u001b[39mNone\u001b[39;00m, glider_asset: \u001b[39mstr\u001b[39m \u001b[39m|\u001b[39m \u001b[39mNone\u001b[39;00m \u001b[39m=\u001b[39m \u001b[39mNone\u001b[39;00m, wind: \u001b[39mstr\u001b[39m \u001b[39m=\u001b[39m \u001b[39m\"\u001b[39m\u001b[39m0 0 0\u001b[39m\u001b[39m\"\u001b[39m\n\u001b[1;32m      7\u001b[0m ) \u001b[39m-\u001b[39m\u001b[39m>\u001b[39m \u001b[39mstr\u001b[39m:\n\u001b[1;32m      8\u001b[0m     \u001b[39mif\u001b[39;00m \u001b[39mnot\u001b[39;00m glider_xml:\n",
      "File \u001b[0;32m~/Developer/glider/src/glider/vehicle.py:10\u001b[0m\n\u001b[1;32m      7\u001b[0m \u001b[39mimport\u001b[39;00m \u001b[39mmediapy\u001b[39;00m \u001b[39mas\u001b[39;00m \u001b[39mmedia\u001b[39;00m\n\u001b[1;32m      9\u001b[0m \u001b[39mfrom\u001b[39;00m \u001b[39m.\u001b[39;00m\u001b[39mconstants\u001b[39;00m \u001b[39mimport\u001b[39;00m DEFAULT_STL_FILEPATH, GLIDER_GEOM_NAME, MUTATION_RATIO\n\u001b[0;32m---> 10\u001b[0m \u001b[39mimport\u001b[39;00m \u001b[39mvisualize\u001b[39;00m\n\u001b[1;32m     12\u001b[0m PILOT_RGBA \u001b[39m=\u001b[39m \u001b[39m\"\u001b[39m\u001b[39m0.2 0.2 0.8 0.5\u001b[39m\u001b[39m\"\u001b[39m\n\u001b[1;32m     13\u001b[0m PILOT_DIMENSIONS_M \u001b[39m=\u001b[39m [\u001b[39m1.8\u001b[39m, \u001b[39m0.3\u001b[39m, \u001b[39m0.6\u001b[39m]\n",
      "\u001b[0;31mModuleNotFoundError\u001b[0m: No module named 'visualize'"
     ]
    }
   ],
   "source": [
    "import glider.visualize as visualize\n",
    "import glider.vehicle as vehicle\n",
    "\n",
    "import mediapy as media"
   ]
  },
  {
   "cell_type": "markdown",
   "metadata": {},
   "source": [
    "Hi there! Welcome to jelyfish_can_fly \n",
    "\n",
    "An aquarium of creatures learning to fly, or at least glide...\n",
    "\n"
   ]
  },
  {
   "cell_type": "markdown",
   "metadata": {},
   "source": [
    "There are 3 different reproduction modes:\n",
    "- Mutation\n",
    "- Cloning\n",
    "- Cross-over"
   ]
  },
  {
   "cell_type": "markdown",
   "metadata": {},
   "source": [
    "The first mode, mutation, creates offspring that vary according to the MUTATION_RATIO, here 5%. \n",
    "\n",
    "Let's try it out!"
   ]
  },
  {
   "cell_type": "code",
   "execution_count": null,
   "metadata": {},
   "outputs": [
    {
     "data": {
      "text/html": [
       "<table class=\"show_images\" style=\"border-spacing:0px;\"><tr><td style=\"padding:1px;\"><img width=\"320\" height=\"240\" style=\"image-rendering:auto; object-fit:cover;\" src=\"data:image/png;base64,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\"/></td></tr></table>"
      ],
      "text/plain": [
       "<IPython.core.display.HTML object>"
      ]
     },
     "metadata": {},
     "output_type": "display_data"
    },
    {
     "data": {
      "text/html": [
       "<table class=\"show_images\" style=\"border-spacing:0px;\"><tr><td style=\"padding:1px;\"><img width=\"320\" height=\"240\" style=\"image-rendering:auto; object-fit:cover;\" src=\"data:image/png;base64,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\"/></td></tr></table>"
      ],
      "text/plain": [
       "<IPython.core.display.HTML object>"
      ]
     },
     "metadata": {},
     "output_type": "display_data"
    }
   ],
   "source": [
    "v = vehicle.Vehicle(\n",
    "    num_vertices=10,\n",
    "    max_dim_m=5,\n",
    "    )\n",
    "media.show_image(visualize.view_vehicle(*v.create_glider_from_vertices()))\n",
    "\n",
    "v2 = vehicle.Vehicle(\n",
    "    vertices=v.mutate(),\n",
    ")\n",
    "media.show_image(visualize.view_vehicle(*v2.create_glider_from_vertices()))"
   ]
  },
  {
   "cell_type": "markdown",
   "metadata": {},
   "source": [
    "These will be similar to the parents, but not the same, allowing us to whittle into adjacent niches."
   ]
  },
  {
   "cell_type": "markdown",
   "metadata": {},
   "source": [
    "Cross-over allows us to take a set of genes from one parent, and a set of genes from the other, resulting in a hybrid.\n",
    "\n",
    "The idea is to take existing \"features\" from both gliders and combine them to create new solution tips."
   ]
  },
  {
   "cell_type": "code",
   "execution_count": null,
   "metadata": {},
   "outputs": [
    {
     "data": {
      "text/html": [
       "<table class=\"show_images\" style=\"border-spacing:0px;\"><tr><td style=\"padding:1px;\"><img width=\"320\" height=\"240\" style=\"image-rendering:auto; object-fit:cover;\" src=\"data:image/png;base64,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\"/></td></tr></table>"
      ],
      "text/plain": [
       "<IPython.core.display.HTML object>"
      ]
     },
     "metadata": {},
     "output_type": "display_data"
    },
    {
     "data": {
      "text/html": [
       "<table class=\"show_images\" style=\"border-spacing:0px;\"><tr><td style=\"padding:1px;\"><img width=\"320\" height=\"240\" style=\"image-rendering:auto; object-fit:cover;\" src=\"data:image/png;base64,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\"/></td></tr></table>"
      ],
      "text/plain": [
       "<IPython.core.display.HTML object>"
      ]
     },
     "metadata": {},
     "output_type": "display_data"
    },
    {
     "data": {
      "text/html": [
       "<table class=\"show_images\" style=\"border-spacing:0px;\"><tr><td style=\"padding:1px;\"><img width=\"320\" height=\"240\" style=\"image-rendering:auto; object-fit:cover;\" src=\"data:image/png;base64,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\"/></td></tr></table>"
      ],
      "text/plain": [
       "<IPython.core.display.HTML object>"
      ]
     },
     "metadata": {},
     "output_type": "display_data"
    }
   ],
   "source": [
    "# Here is an example of cross-over reproduction:\n",
    "\n",
    "v1 = vehicle.Vehicle(\n",
    "    num_vertices=10,\n",
    "    max_dim_m=0.5,\n",
    "    )\n",
    "media.show_image(visualize.view_vehicle(*v.create_glider_from_vertices()))\n",
    "\n",
    "v2 = vehicle.Vehicle(\n",
    "    num_vertices=10,\n",
    "    max_dim_m=5.0,\n",
    ")\n",
    "media.show_image(visualize.view_vehicle(*v2.create_glider_from_vertices()))\n",
    "\n",
    "v3 = vehicle.Vehicle(\n",
    "    vertices=v2.cross_over(v1),\n",
    ")\n",
    "media.show_image(visualize.view_vehicle(*v3.create_glider_from_vertices()))"
   ]
  },
  {
   "cell_type": "code",
   "execution_count": null,
   "metadata": {},
   "outputs": [
    {
     "name": "stdout",
     "output_type": "stream",
     "text": [
      "Iteration: 0\n"
     ]
    },
    {
     "ename": "AttributeError",
     "evalue": "'Vehicle' object has no attribute 'show'",
     "output_type": "error",
     "traceback": [
      "\u001b[0;31m---------------------------------------------------------------------------\u001b[0m",
      "\u001b[0;31mAttributeError\u001b[0m                            Traceback (most recent call last)",
      "Cell \u001b[0;32mIn[6], line 18\u001b[0m\n\u001b[1;32m     16\u001b[0m \u001b[39mif\u001b[39;00m i \u001b[39m%\u001b[39m \u001b[39m50\u001b[39m \u001b[39m==\u001b[39m \u001b[39m0\u001b[39m:\n\u001b[1;32m     17\u001b[0m     winning_glider \u001b[39m=\u001b[39m population[\u001b[39m0\u001b[39m]\n\u001b[0;32m---> 18\u001b[0m     winning_glider\u001b[39m.\u001b[39;49mshow()\n",
      "\u001b[0;31mAttributeError\u001b[0m: 'Vehicle' object has no attribute 'show'"
     ]
    }
   ],
   "source": [
    "from glider.optimization import iterate_population\n",
    "\n",
    "population = [] \n",
    "for i in range(200):\n",
    "    print(\"Iteration:\", i)\n",
    "    population = iterate_population(\n",
    "        population,\n",
    "        population_size = 100,\n",
    "        survival_weight = 0.4,\n",
    "        # hereditary_weight = 0.4,\n",
    "        # mutation_weight = 3,\n",
    "        # cloning_weight = 1,\n",
    "        # crossover_weight = 1,\n",
    "    )\n",
    "\n",
    "    if i % 50 == 0:\n",
    "        winning_glider = population[0]\n",
    "        winning_glider.show()"
   ]
  },
  {
   "cell_type": "code",
   "execution_count": null,
   "metadata": {},
   "outputs": [],
   "source": []
  }
 ],
 "metadata": {
  "kernelspec": {
   "display_name": ".env",
   "language": "python",
   "name": "python3"
  },
  "language_info": {
   "codemirror_mode": {
    "name": "ipython",
    "version": 3
   },
   "file_extension": ".py",
   "mimetype": "text/x-python",
   "name": "python",
   "nbconvert_exporter": "python",
   "pygments_lexer": "ipython3",
   "version": "3.11.0"
  },
  "orig_nbformat": 4
 },
 "nbformat": 4,
 "nbformat_minor": 2
}
