{
 "cells": [
  {
   "cell_type": "code",
   "execution_count": 1,
   "metadata": {},
   "outputs": [
    {
     "data": {
      "text/plain": [
       "980"
      ]
     },
     "execution_count": 1,
     "metadata": {},
     "output_type": "execute_result"
    }
   ],
   "source": [
    "from glider.vehicle import Vehicle\n",
    "from glider.visualize import view_vehicle\n",
    "from glider.optimization import drop_test_glider\n",
    "\n",
    "def concave_prism_vertices():\n",
    "    return [\n",
    "        [0.0, 0.0, 0.0],  # inner base point\n",
    "        [1.0, -1.0, 1.0],  # base\n",
    "        [1.0, -1.0, -1.0],  # base\n",
    "        [-1.0, -1.0, -1.0],  # base\n",
    "        [-1.0, -1.0, 1.0],  # base\n",
    "        [0.0, 1.0, 0.0],  # pyramid tip\n",
    "    ]\n",
    "\n",
    "\n",
    "def concave_prism_faces():\n",
    "    return [\n",
    "        [1, 2, 0],\n",
    "        [2, 3, 0],\n",
    "        [3, 4, 0],\n",
    "        [4, 1, 0],\n",
    "        [2, 1, 5],\n",
    "        [3, 2, 5],\n",
    "        [4, 3, 5],\n",
    "        [1, 4, 5],\n",
    "    ]\n",
    "\n",
    "world_xml = drop_test_glider(\n",
    "    *Vehicle(concave_prism_vertices(), concave_prism_faces()).create_glider_from_vertices()\n",
    ")\n",
    "\n",
    "from pathlib import Path\n",
    "here = Path.cwd()\n",
    "\n",
    "Path(here / 'world.xml').write_text(world_xml)\n",
    "\n",
    "\n"
   ]
  },
  {
   "cell_type": "code",
   "execution_count": null,
   "metadata": {},
   "outputs": [],
   "source": []
  }
 ],
 "metadata": {
  "kernelspec": {
   "display_name": ".env",
   "language": "python",
   "name": "python3"
  },
  "language_info": {
   "codemirror_mode": {
    "name": "ipython",
    "version": 3
   },
   "file_extension": ".py",
   "mimetype": "text/x-python",
   "name": "python",
   "nbconvert_exporter": "python",
   "pygments_lexer": "ipython3",
   "version": "3.11.0"
  },
  "orig_nbformat": 4
 },
 "nbformat": 4,
 "nbformat_minor": 2
}
