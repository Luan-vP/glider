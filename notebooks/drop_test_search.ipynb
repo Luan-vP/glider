{
    "cells": [
        {
            "cell_type": "markdown",
            "metadata": {
                "colab_type": "text",
                "id": "view-in-github"
            },
            "source": [
                "<a href=\"https://colab.research.google.com/github/Luan-vP/glider/blob/main/Glider_Evolution.ipynb\" target=\"_parent\"><img src=\"https://colab.research.google.com/assets/colab-badge.svg\" alt=\"Open In Colab\"/></a>"
            ]
        },
        {
            "cell_type": "code",
            "execution_count": 4,
            "metadata": {},
            "outputs": [
                {
                    "name": "stdout",
                    "output_type": "stream",
                    "text": [
                        "\n"
                    ]
                }
            ],
            "source": [
                "from pathlib import Path\n",
                "\n",
                "repository_path = Path('.').resolve()\n",
                "\n",
                "!pip install -Uqq -r {repository_path}/requirements.txt -r {repository_path}/requirements-dev.txt\n",
                "\n",
                "!export PYTHONPATH=$PYTHONPATH:..:../src\n",
                "!echo $PYTHONPATH"
            ]
        },
        {
            "cell_type": "code",
            "execution_count": 5,
            "metadata": {},
            "outputs": [
                {
                    "name": "stdout",
                    "output_type": "stream",
                    "text": [
                        "[Vehicle(), Vehicle(), Vehicle(), Vehicle(), Vehicle(), Vehicle(), Vehicle(), Vehicle(), Vehicle(), Vehicle(), Vehicle(), Vehicle(), Vehicle(), Vehicle(), Vehicle(), Vehicle(), Vehicle(), Vehicle(), Vehicle(), Vehicle(), Vehicle(), Vehicle(), Vehicle(), Vehicle(), Vehicle(), Vehicle(), Vehicle(), Vehicle(), Vehicle(), Vehicle(), Vehicle(), Vehicle(), Vehicle(), Vehicle(), Vehicle(), Vehicle()]\n"
                    ]
                }
            ],
            "source": [
                "from vehicle import Vehicle\n",
                "from constants import DEFAULT_STL_FILEPATH\n",
                "from optimization import measure_drop_test\n",
                "import simulation\n",
                "from visualize import render_initial_pixels\n",
                "\n",
                "import mediapy as media\n",
                "\n",
                "POPULATION_SIZE = 36\n",
                "\n",
                "def prep_generation(population: int = 6) -> list[Vehicle]:\n",
                "    population = [Vehicle(num_vertices=30) for i in range(population)]\n",
                "\n",
                "    return population\n",
                "\n",
                "generation = prep_generation(population=POPULATION_SIZE)\n"
            ]
        },
        {
            "cell_type": "code",
            "execution_count": 6,
            "metadata": {},
            "outputs": [],
            "source": [
                "max_distance = max(results)\n",
                "winning_glider = generation[results.index(max_distance)]\n",
                "\n",
                "results = [1 for i in range(len(generation))]\n",
                "\n",
                "reproduction_ratio = 0.4\n",
                "\n",
                "# --------   #\n",
                "epochs = 6\n",
                "for epoch in range(epochs):\n",
                "    new_generation = [Vehicle(vertices=winning_glider.vertices) for _ in range(int(POPULATION_SIZE * reproduction_ratio))]\n",
                "    results = []\n",
                "    for i in range(0, int(len(generation) - len(new_generation))):\n",
                "        vehicle = Vehicle(vertices=winning_glider.vertices)\n",
                "        vehicle.mutate()\n",
                "\n",
                "        new_generation.append(vehicle)\n",
                "        result = measure_drop_test(*vehicle.create_glider_from_vertices(), height=800)\n",
                "        results.append(result)\n",
                "\n",
                "    generation = new_generation\n"
            ]
        },
        {
            "cell_type": "code",
            "execution_count": 7,
            "metadata": {},
            "outputs": [
                {
                    "name": "stdout",
                    "output_type": "stream",
                    "text": [
                        "Max distance:  129.80348461868937\n"
                    ]
                },
                {
                    "ename": "TypeError",
                    "evalue": "render_initial_pixels() missing 1 required positional argument: 'data'",
                    "output_type": "error",
                    "traceback": [
                        "\u001b[0;31m---------------------------------------------------------------------------\u001b[0m",
                        "\u001b[0;31mTypeError\u001b[0m                                 Traceback (most recent call last)",
                        "Cell \u001b[0;32mIn[7], line 17\u001b[0m\n\u001b[1;32m     10\u001b[0m orientation \u001b[39m=\u001b[39m [\u001b[39m200\u001b[39m, \u001b[39m200\u001b[39m, \u001b[39m100\u001b[39m]\n\u001b[1;32m     11\u001b[0m world_xml \u001b[39m=\u001b[39m simulation\u001b[39m.\u001b[39mwrap_glider(\n\u001b[1;32m     12\u001b[0m     \u001b[39m*\u001b[39mwinning_glider\u001b[39m.\u001b[39mcreate_glider_from_vertices(\n\u001b[1;32m     13\u001b[0m         orientation\u001b[39m=\u001b[39morientation,\n\u001b[1;32m     14\u001b[0m         scale\u001b[39m=\u001b[39m\u001b[39m4.0\u001b[39m,\n\u001b[1;32m     15\u001b[0m     )\n\u001b[1;32m     16\u001b[0m )\n\u001b[0;32m---> 17\u001b[0m media\u001b[39m.\u001b[39mshow_image(render_initial_pixels(world_xml))\n\u001b[1;32m     18\u001b[0m \u001b[39mprint\u001b[39m(result)\n",
                        "\u001b[0;31mTypeError\u001b[0m: render_initial_pixels() missing 1 required positional argument: 'data'"
                    ]
                }
            ],
            "source": [
                "epochs = 6\n",
                "\n",
                "\n",
                "for i in range(epochs):\n",
                "\n",
                "    max_distance = max(results)\n",
                "    winning_glider = generation[results.index(max_distance)]\n",
                "\n",
                "    print(\"Max distance: \", max_distance)\n",
                "    orientation = [200, 200, 100]\n",
                "    world_xml = simulation.wrap_glider(\n",
                "        *winning_glider.create_glider_from_vertices(\n",
                "            orientation=orientation,\n",
                "            scale=4.0,\n",
                "        )\n",
                "    )\n",
                "    media.show_image(render_initial_pixels(world_xml))\n",
                "    print(result)"
            ]
        },
        {
            "cell_type": "code",
            "execution_count": null,
            "metadata": {},
            "outputs": [],
            "source": [
                "import simulation\n",
                "\n",
                "world_xml = simulation.drop_test_glider(\n",
                "    *winning_glider.create_glider_from_vertices(),\n",
                "    height=800\n",
                ")\n",
                "\n",
                "with open(\"/Users/luan/Developer/glider/assets/worlds/world.xml\", \"w\") as f:\n",
                "    f.write(world_xml)"
            ]
        },
        {
            "cell_type": "code",
            "execution_count": null,
            "metadata": {},
            "outputs": [],
            "source": []
        }
    ],
    "metadata": {
        "accelerator": "GPU",
        "colab": {
            "authorship_tag": "ABX9TyOZUuXdsXxggvP+IOiTfZbk",
            "gpuType": "A100",
            "include_colab_link": true,
            "provenance": []
        },
        "kernelspec": {
            "display_name": "Python 3",
            "name": "python3"
        },
        "language_info": {
            "codemirror_mode": {
                "name": "ipython",
                "version": 3
            },
            "file_extension": ".py",
            "mimetype": "text/x-python",
            "name": "python",
            "nbconvert_exporter": "python",
            "pygments_lexer": "ipython3",
            "version": "3.11.0"
        }
    },
    "nbformat": 4,
    "nbformat_minor": 0
}
