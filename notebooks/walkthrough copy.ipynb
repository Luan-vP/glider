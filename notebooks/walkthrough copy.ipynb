{
 "cells": [
  {
   "cell_type": "code",
   "execution_count": 1,
   "metadata": {},
   "outputs": [],
   "source": [
    "# from pathlib import Path\n",
    "\n",
    "# repository_path = Path('..').resolve()\n",
    "\n",
    "# !pip install -Uqq {repository_path}\n",
    "# %pip install -e ..\n",
    "    \n",
    "\n",
    "\n",
    "# !export PYTHONPATH=$PYTHONPATH:{repository_path}\n",
    "# !echo $PYTHONPATH"
   ]
  },
  {
   "cell_type": "markdown",
   "metadata": {},
   "source": [
    "<a target=\"_blank\" href=\"https://colab.research.google.com/github/Luan-vP/glider/blob/main/walkthrough.ipynb\">\n",
    "  <img src=\"https://colab.research.google.com/assets/colab-badge.svg\" alt=\"Open In Colab\"/>\n",
    "</a>"
   ]
  },
  {
   "cell_type": "code",
   "execution_count": 2,
   "metadata": {},
   "outputs": [],
   "source": [
    "import glider.visualize as visualize\n",
    "import glider.vehicle as vehicle\n",
    "\n",
    "import mediapy as media"
   ]
  },
  {
   "cell_type": "code",
   "execution_count": 3,
   "metadata": {},
   "outputs": [
    {
     "ename": "TypeError",
     "evalue": "can't multiply sequence by non-int of type 'float'",
     "output_type": "error",
     "traceback": [
      "\u001b[0;31m---------------------------------------------------------------------------\u001b[0m",
      "\u001b[0;31mTypeError\u001b[0m                                 Traceback (most recent call last)",
      "\u001b[1;32m/Users/luan/Developer/glider/notebooks/walkthrough copy.ipynb Cell 4\u001b[0m line \u001b[0;36m3\n\u001b[1;32m     <a href='vscode-notebook-cell:/Users/luan/Developer/glider/notebooks/walkthrough%20copy.ipynb#X13sZmlsZQ%3D%3D?line=29'>30</a>\u001b[0m population \u001b[39m=\u001b[39m [Vehicle(vertices\u001b[39m=\u001b[39mconcave_prism_vertices(), faces\u001b[39m=\u001b[39mconcave_prism_faces()) \u001b[39mfor\u001b[39;00m _ \u001b[39min\u001b[39;00m \u001b[39mrange\u001b[39m(\u001b[39m100\u001b[39m)] \n\u001b[1;32m     <a href='vscode-notebook-cell:/Users/luan/Developer/glider/notebooks/walkthrough%20copy.ipynb#X13sZmlsZQ%3D%3D?line=30'>31</a>\u001b[0m \u001b[39mfor\u001b[39;00m i \u001b[39min\u001b[39;00m \u001b[39mrange\u001b[39m(\u001b[39m300\u001b[39m):\n\u001b[0;32m---> <a href='vscode-notebook-cell:/Users/luan/Developer/glider/notebooks/walkthrough%20copy.ipynb#X13sZmlsZQ%3D%3D?line=31'>32</a>\u001b[0m     population \u001b[39m=\u001b[39m iterate_population(\n\u001b[1;32m     <a href='vscode-notebook-cell:/Users/luan/Developer/glider/notebooks/walkthrough%20copy.ipynb#X13sZmlsZQ%3D%3D?line=32'>33</a>\u001b[0m         population,\n\u001b[1;32m     <a href='vscode-notebook-cell:/Users/luan/Developer/glider/notebooks/walkthrough%20copy.ipynb#X13sZmlsZQ%3D%3D?line=33'>34</a>\u001b[0m         survival_weight \u001b[39m=\u001b[39;49m \u001b[39m0.4\u001b[39;49m,\n\u001b[1;32m     <a href='vscode-notebook-cell:/Users/luan/Developer/glider/notebooks/walkthrough%20copy.ipynb#X13sZmlsZQ%3D%3D?line=34'>35</a>\u001b[0m         cloning_weight \u001b[39m=\u001b[39;49m \u001b[39m0.4\u001b[39;49m,\n\u001b[1;32m     <a href='vscode-notebook-cell:/Users/luan/Developer/glider/notebooks/walkthrough%20copy.ipynb#X13sZmlsZQ%3D%3D?line=35'>36</a>\u001b[0m     )\n\u001b[1;32m     <a href='vscode-notebook-cell:/Users/luan/Developer/glider/notebooks/walkthrough%20copy.ipynb#X13sZmlsZQ%3D%3D?line=37'>38</a>\u001b[0m     \u001b[39mif\u001b[39;00m i \u001b[39m%\u001b[39m \u001b[39m10\u001b[39m \u001b[39m==\u001b[39m \u001b[39m0\u001b[39m:\n\u001b[1;32m     <a href='vscode-notebook-cell:/Users/luan/Developer/glider/notebooks/walkthrough%20copy.ipynb#X13sZmlsZQ%3D%3D?line=38'>39</a>\u001b[0m         \u001b[39mprint\u001b[39m(\u001b[39m\"\u001b[39m\u001b[39mIteration:\u001b[39m\u001b[39m\"\u001b[39m, i)\n",
      "File \u001b[0;32m~/Developer/glider/src/glider/optimization.py:71\u001b[0m, in \u001b[0;36miterate_population\u001b[0;34m(population, survival_weight, cloning_weight)\u001b[0m\n\u001b[1;32m     68\u001b[0m ranking\u001b[39m.\u001b[39msort(key\u001b[39m=\u001b[39m\u001b[39mlambda\u001b[39;00m x: x[\u001b[39m1\u001b[39m], reverse\u001b[39m=\u001b[39m\u001b[39mTrue\u001b[39;00m)\n\u001b[1;32m     70\u001b[0m \u001b[39m# Retain survivors\u001b[39;00m\n\u001b[0;32m---> 71\u001b[0m survivor_results \u001b[39m=\u001b[39m ranking[: \u001b[39mint\u001b[39m(population_size \u001b[39m*\u001b[39;49m survival_weight)]\n\u001b[1;32m     73\u001b[0m survivors: \u001b[39mlist\u001b[39m[Vehicle] \u001b[39m=\u001b[39m [result[\u001b[39m0\u001b[39m] \u001b[39mfor\u001b[39;00m result \u001b[39min\u001b[39;00m survivor_results]\n\u001b[1;32m     75\u001b[0m clones: \u001b[39mlist\u001b[39m[Vehicle] \u001b[39m=\u001b[39m []\n",
      "\u001b[0;31mTypeError\u001b[0m: can't multiply sequence by non-int of type 'float'"
     ]
    }
   ],
   "source": [
    "from glider.optimization import iterate_population, fitness_func\n",
    "from glider.visualize import view_vehicle\n",
    "from glider.vehicle import Vehicle\n",
    "\n",
    "frames = []\n",
    "\n",
    "def concave_prism_vertices():\n",
    "    return [\n",
    "        [0.0, 0.0, 0.0],  # inner base point\n",
    "        [1.0, -1.0, 1.0],  # base\n",
    "        [1.0, -1.0, -1.0],  # base\n",
    "        [-1.0, -1.0, -1.0],  # base\n",
    "        [-1.0, -1.0, 1.0],  # base\n",
    "        [0.0, 1.0, 0.0],  # pyramid tip\n",
    "    ]\n",
    "\n",
    "\n",
    "def concave_prism_faces():\n",
    "    return [\n",
    "        [1, 2, 0],\n",
    "        [2, 3, 0],\n",
    "        [3, 4, 0],\n",
    "        [4, 1, 0],\n",
    "        [2, 1, 5],\n",
    "        [3, 2, 5],\n",
    "        [4, 3, 5],\n",
    "        [1, 4, 5],\n",
    "    ]\n",
    "\n",
    "population = [Vehicle(vertices=concave_prism_vertices(), faces=concave_prism_faces()) for _ in range(100)] \n",
    "for i in range(300):\n",
    "    population = iterate_population(\n",
    "        population,\n",
    "        survival_weight = 0.5,\n",
    "        cloning_weight = 0.5,\n",
    "    )\n",
    "\n",
    "    if i % 10 == 0:\n",
    "        print(\"Iteration:\", i)\n",
    "        winning_glider = population[0]\n",
    "        print(\"Fitness:\", fitness_func(winning_glider))\n",
    "        # vehicle.Vehicle(vertices=winning_genes).show()\n",
    "        frames.append(view_vehicle(*winning_glider.create_glider_from_vertices()))\n"
   ]
  },
  {
   "cell_type": "code",
   "execution_count": null,
   "metadata": {},
   "outputs": [
    {
     "data": {
      "text/html": [
       "<table class=\"show_videos\" style=\"border-spacing:0px;\"><tr><td style=\"padding:1px;\"><video controls width=\"320\" height=\"240\" style=\"object-fit:cover;\" loop autoplay muted>\n",
       "      <source src=\"data:video/mp4;base64,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\" type=\"video/mp4\"/>\n",
       "      This browser does not support the video tag.\n",
       "      </video></td></tr></table>"
      ],
      "text/plain": [
       "<IPython.core.display.HTML object>"
      ]
     },
     "metadata": {},
     "output_type": "display_data"
    }
   ],
   "source": [
    "media.show_video(frames, fps=3)"
   ]
  },
  {
   "cell_type": "code",
   "execution_count": null,
   "metadata": {},
   "outputs": [
    {
     "data": {
      "text/html": [
       "<table class=\"show_images\" style=\"border-spacing:0px;\"><tr><td style=\"padding:1px;\"><img width=\"320\" height=\"240\" style=\"image-rendering:auto; object-fit:cover;\" src=\"data:image/png;base64,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\"/></td></tr></table>"
      ],
      "text/plain": [
       "<IPython.core.display.HTML object>"
      ]
     },
     "metadata": {},
     "output_type": "display_data"
    }
   ],
   "source": [
    "v = vehicle.Vehicle(vertices=population[0])\n",
    "v.show()"
   ]
  },
  {
   "cell_type": "code",
   "execution_count": null,
   "metadata": {},
   "outputs": [],
   "source": [
    "import glider.simulation as sim\n",
    "\n",
    "glider_xml, glider_asset = v.create_glider_from_vertices()\n",
    "world_xml = sim.drop_test_glider(glider_xml, glider_asset)\n",
    "\n",
    "from pathlib import Path\n",
    "\n",
    "p = Path('../assets/worlds/drop_test.xml').resolve()\n",
    "p.parent.mkdir(parents=True, exist_ok=True)\n",
    "\n",
    "with open('../assets/worlds/drop_test.xml', 'w') as f:\n",
    "    f.write(world_xml)"
   ]
  }
 ],
 "metadata": {
  "kernelspec": {
   "display_name": ".env",
   "language": "python",
   "name": "python3"
  },
  "language_info": {
   "codemirror_mode": {
    "name": "ipython",
    "version": 3
   },
   "file_extension": ".py",
   "mimetype": "text/x-python",
   "name": "python",
   "nbconvert_exporter": "python",
   "pygments_lexer": "ipython3",
   "version": "3.11.0"
  },
  "orig_nbformat": 4
 },
 "nbformat": 4,
 "nbformat_minor": 2
}
