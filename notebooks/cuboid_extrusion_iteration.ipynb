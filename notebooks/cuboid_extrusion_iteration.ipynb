{
 "cells": [
  {
   "cell_type": "code",
   "execution_count": 1,
   "metadata": {},
   "outputs": [],
   "source": [
    "# 0 - layer_density\n",
    "cuboid_points = [\n",
    "    (0.0, 0.0, 0.0),\n",
    "    (1.0, 0.0, 0.0),\n",
    "    (2.0, 0.0, 0.0),\n",
    "    (3.0, 0.0, 0.0),\n",
    "    (4.0, 0.0, 0.0),\n",
    "    (5.0, 0.0, 0.0),\n",
    "    (5.0, 1.0, 0.0),\n",
    "    (5.0, 2.0, 0.0),\n",
    "    (5.0, 3.0, 0.0),\n",
    "    (5.0, 4.0, 0.0),\n",
    "    (5.0, 5.0, 0.0),\n",
    "    (4.0, 5.0, 0.0),\n",
    "    (3.0, 5.0, 0.0),\n",
    "    (2.0, 5.0, 0.0),\n",
    "    (1.0, 5.0, 0.0),\n",
    "    (0.0, 5.0, 0.0),\n",
    "    (0.0, 4.0, 0.0),\n",
    "    (0.0, 3.0, 0.0),\n",
    "    (0.0, 2.0, 0.0),\n",
    "    (0.0, 1.0, 0.0),\n",
    "]\n",
    "\n",
    "\n"
   ]
  },
  {
   "cell_type": "code",
   "execution_count": 2,
   "metadata": {},
   "outputs": [],
   "source": [
    "import numpy as np\n",
    "\n",
    "LAYER_SPACING = 0.5\n",
    "\n",
    "points_per_layer = len(cuboid_points)\n",
    "\n",
    "depth = 15.0\n",
    "\n",
    "for k in range(int(depth / LAYER_SPACING)):\n",
    "    for i in range(points_per_layer):\n",
    "        cuboid_points.append((cuboid_points[i][0], cuboid_points[i][1], (k + 1) * LAYER_SPACING))\n",
    "\n",
    "faces = []\n",
    "\n",
    "\n",
    "i=0\n",
    "while i + points_per_layer + 1 < len(cuboid_points):\n",
    "    faces.append([i, i + points_per_layer + 1, i + 1])\n",
    "    faces.append([i, i + points_per_layer, i + points_per_layer + 1])\n",
    "    i += 1\n",
    "\n",
    "# Cap off the ends\n",
    "\n",
    "# left face\n",
    "\n",
    "left_edge = list(range(0, points_per_layer))\n",
    "\n",
    "left_edge.reverse()\n",
    "\n",
    "left_outer_point = (0.0, 0.0, -LAYER_SPACING)\n",
    "right_outer_point = (0.0, 0.0, depth + LAYER_SPACING)\n",
    "\n",
    "\n",
    "\n",
    "cuboid_points.append(left_outer_point)  # i=-2\n",
    "cuboid_points.append(right_outer_point)  # i=-1\n",
    "\n",
    "for i in range(points_per_layer):\n",
    "    faces.append((i, i+1, len(cuboid_points) - 2))\n",
    "    faces.append((len(cuboid_points) - 3 - i, len(cuboid_points) - 4 - i, len(cuboid_points) - 1))\n"
   ]
  },
  {
   "cell_type": "code",
   "execution_count": 3,
   "metadata": {},
   "outputs": [
    {
     "name": "stdout",
     "output_type": "stream",
     "text": [
      "[[0, 21, 1], [0, 20, 21], [1, 22, 2], [1, 21, 22], [2, 23, 3], [2, 22, 23], [3, 24, 4], [3, 23, 24], [4, 25, 5], [4, 24, 25], [5, 26, 6], [5, 25, 26], [6, 27, 7], [6, 26, 27], [7, 28, 8], [7, 27, 28], [8, 29, 9], [8, 28, 29], [9, 30, 10], [9, 29, 30], [10, 31, 11], [10, 30, 31], [11, 32, 12], [11, 31, 32], [12, 33, 13], [12, 32, 33], [13, 34, 14], [13, 33, 34], [14, 35, 15], [14, 34, 35], [15, 36, 16], [15, 35, 36], [16, 37, 17], [16, 36, 37], [17, 38, 18], [17, 37, 38], [18, 39, 19], [18, 38, 39], [19, 40, 20], [19, 39, 40], [20, 41, 21], [20, 40, 41], [21, 42, 22], [21, 41, 42], [22, 43, 23], [22, 42, 43], [23, 44, 24], [23, 43, 44], [24, 45, 25], [24, 44, 45], [25, 46, 26], [25, 45, 46], [26, 47, 27], [26, 46, 47], [27, 48, 28], [27, 47, 48], [28, 49, 29], [28, 48, 49], [29, 50, 30], [29, 49, 50], [30, 51, 31], [30, 50, 51], [31, 52, 32], [31, 51, 52], [32, 53, 33], [32, 52, 53], [33, 54, 34], [33, 53, 54], [34, 55, 35], [34, 54, 55], [35, 56, 36], [35, 55, 56], [36, 57, 37], [36, 56, 57], [37, 58, 38], [37, 57, 58], [38, 59, 39], [38, 58, 59], [39, 60, 40], [39, 59, 60], [40, 61, 41], [40, 60, 61], [41, 62, 42], [41, 61, 62], [42, 63, 43], [42, 62, 63], [43, 64, 44], [43, 63, 64], [44, 65, 45], [44, 64, 65], [45, 66, 46], [45, 65, 66], [46, 67, 47], [46, 66, 67], [47, 68, 48], [47, 67, 68], [48, 69, 49], [48, 68, 69], [49, 70, 50], [49, 69, 70], [50, 71, 51], [50, 70, 71], [51, 72, 52], [51, 71, 72], [52, 73, 53], [52, 72, 73], [53, 74, 54], [53, 73, 74], [54, 75, 55], [54, 74, 75], [55, 76, 56], [55, 75, 76], [56, 77, 57], [56, 76, 77], [57, 78, 58], [57, 77, 78], [58, 79, 59], [58, 78, 79], [59, 80, 60], [59, 79, 80], [60, 81, 61], [60, 80, 81], [61, 82, 62], [61, 81, 82], [62, 83, 63], [62, 82, 83], [63, 84, 64], [63, 83, 84], [64, 85, 65], [64, 84, 85], [65, 86, 66], [65, 85, 86], [66, 87, 67], [66, 86, 87], [67, 88, 68], [67, 87, 88], [68, 89, 69], [68, 88, 89], [69, 90, 70], [69, 89, 90], [70, 91, 71], [70, 90, 91], [71, 92, 72], [71, 91, 92], [72, 93, 73], [72, 92, 93], [73, 94, 74], [73, 93, 94], [74, 95, 75], [74, 94, 95], [75, 96, 76], [75, 95, 96], [76, 97, 77], [76, 96, 97], [77, 98, 78], [77, 97, 98], [78, 99, 79], [78, 98, 99], [79, 100, 80], [79, 99, 100], [80, 101, 81], [80, 100, 101], [81, 102, 82], [81, 101, 102], [82, 103, 83], [82, 102, 103], [83, 104, 84], [83, 103, 104], [84, 105, 85], [84, 104, 105], [85, 106, 86], [85, 105, 106], [86, 107, 87], [86, 106, 107], [87, 108, 88], [87, 107, 108], [88, 109, 89], [88, 108, 109], [89, 110, 90], [89, 109, 110], [90, 111, 91], [90, 110, 111], [91, 112, 92], [91, 111, 112], [92, 113, 93], [92, 112, 113], [93, 114, 94], [93, 113, 114], [94, 115, 95], [94, 114, 115], [95, 116, 96], [95, 115, 116], [96, 117, 97], [96, 116, 117], [97, 118, 98], [97, 117, 118], [98, 119, 99], [98, 118, 119], [99, 120, 100], [99, 119, 120], [100, 121, 101], [100, 120, 121], [101, 122, 102], [101, 121, 122], [102, 123, 103], [102, 122, 123], [103, 124, 104], [103, 123, 124], [104, 125, 105], [104, 124, 125], [105, 126, 106], [105, 125, 126], [106, 127, 107], [106, 126, 127], [107, 128, 108], [107, 127, 128], [108, 129, 109], [108, 128, 129], [109, 130, 110], [109, 129, 130], [110, 131, 111], [110, 130, 131], [111, 132, 112], [111, 131, 132], [112, 133, 113], [112, 132, 133], [113, 134, 114], [113, 133, 134], [114, 135, 115], [114, 134, 135], [115, 136, 116], [115, 135, 136], [116, 137, 117], [116, 136, 137], [117, 138, 118], [117, 137, 138], [118, 139, 119], [118, 138, 139], [119, 140, 120], [119, 139, 140], [120, 141, 121], [120, 140, 141], [121, 142, 122], [121, 141, 142], [122, 143, 123], [122, 142, 143], [123, 144, 124], [123, 143, 144], [124, 145, 125], [124, 144, 145], [125, 146, 126], [125, 145, 146], [126, 147, 127], [126, 146, 147], [127, 148, 128], [127, 147, 148], [128, 149, 129], [128, 148, 149], [129, 150, 130], [129, 149, 150], [130, 151, 131], [130, 150, 151], [131, 152, 132], [131, 151, 152], [132, 153, 133], [132, 152, 153], [133, 154, 134], [133, 153, 154], [134, 155, 135], [134, 154, 155], [135, 156, 136], [135, 155, 156], [136, 157, 137], [136, 156, 157], [137, 158, 138], [137, 157, 158], [138, 159, 139], [138, 158, 159], [139, 160, 140], [139, 159, 160], [140, 161, 141], [140, 160, 161], [141, 162, 142], [141, 161, 162], [142, 163, 143], [142, 162, 163], [143, 164, 144], [143, 163, 164], [144, 165, 145], [144, 164, 165], [145, 166, 146], [145, 165, 166], [146, 167, 147], [146, 166, 167], [147, 168, 148], [147, 167, 168], [148, 169, 149], [148, 168, 169], [149, 170, 150], [149, 169, 170], [150, 171, 151], [150, 170, 171], [151, 172, 152], [151, 171, 172], [152, 173, 153], [152, 172, 173], [153, 174, 154], [153, 173, 174], [154, 175, 155], [154, 174, 175], [155, 176, 156], [155, 175, 176], [156, 177, 157], [156, 176, 177], [157, 178, 158], [157, 177, 178], [158, 179, 159], [158, 178, 179], [159, 180, 160], [159, 179, 180], [160, 181, 161], [160, 180, 181], [161, 182, 162], [161, 181, 182], [162, 183, 163], [162, 182, 183], [163, 184, 164], [163, 183, 184], [164, 185, 165], [164, 184, 185], [165, 186, 166], [165, 185, 186], [166, 187, 167], [166, 186, 187], [167, 188, 168], [167, 187, 188], [168, 189, 169], [168, 188, 189], [169, 190, 170], [169, 189, 190], [170, 191, 171], [170, 190, 191], [171, 192, 172], [171, 191, 192], [172, 193, 173], [172, 192, 193], [173, 194, 174], [173, 193, 194], [174, 195, 175], [174, 194, 195], [175, 196, 176], [175, 195, 196], [176, 197, 177], [176, 196, 197], [177, 198, 178], [177, 197, 198], [178, 199, 179], [178, 198, 199], [179, 200, 180], [179, 199, 200], [180, 201, 181], [180, 200, 201], [181, 202, 182], [181, 201, 202], [182, 203, 183], [182, 202, 203], [183, 204, 184], [183, 203, 204], [184, 205, 185], [184, 204, 205], [185, 206, 186], [185, 205, 206], [186, 207, 187], [186, 206, 207], [187, 208, 188], [187, 207, 208], [188, 209, 189], [188, 208, 209], [189, 210, 190], [189, 209, 210], [190, 211, 191], [190, 210, 211], [191, 212, 192], [191, 211, 212], [192, 213, 193], [192, 212, 213], [193, 214, 194], [193, 213, 214], [194, 215, 195], [194, 214, 215], [195, 216, 196], [195, 215, 216], [196, 217, 197], [196, 216, 217], [197, 218, 198], [197, 217, 218], [198, 219, 199], [198, 218, 219], [199, 220, 200], [199, 219, 220], [200, 221, 201], [200, 220, 221], [201, 222, 202], [201, 221, 222], [202, 223, 203], [202, 222, 223], [203, 224, 204], [203, 223, 224], [204, 225, 205], [204, 224, 225], [205, 226, 206], [205, 225, 226], [206, 227, 207], [206, 226, 227], [207, 228, 208], [207, 227, 228], [208, 229, 209], [208, 228, 229], [209, 230, 210], [209, 229, 230], [210, 231, 211], [210, 230, 231], [211, 232, 212], [211, 231, 232], [212, 233, 213], [212, 232, 233], [213, 234, 214], [213, 233, 234], [214, 235, 215], [214, 234, 235], [215, 236, 216], [215, 235, 236], [216, 237, 217], [216, 236, 237], [217, 238, 218], [217, 237, 238], [218, 239, 219], [218, 238, 239], [219, 240, 220], [219, 239, 240], [220, 241, 221], [220, 240, 241], [221, 242, 222], [221, 241, 242], [222, 243, 223], [222, 242, 243], [223, 244, 224], [223, 243, 244], [224, 245, 225], [224, 244, 245], [225, 246, 226], [225, 245, 246], [226, 247, 227], [226, 246, 247], [227, 248, 228], [227, 247, 248], [228, 249, 229], [228, 248, 249], [229, 250, 230], [229, 249, 250], [230, 251, 231], [230, 250, 251], [231, 252, 232], [231, 251, 252], [232, 253, 233], [232, 252, 253], [233, 254, 234], [233, 253, 254], [234, 255, 235], [234, 254, 255], [235, 256, 236], [235, 255, 256], [236, 257, 237], [236, 256, 257], [237, 258, 238], [237, 257, 258], [238, 259, 239], [238, 258, 259], [239, 260, 240], [239, 259, 260], [240, 261, 241], [240, 260, 261], [241, 262, 242], [241, 261, 262], [242, 263, 243], [242, 262, 263], [243, 264, 244], [243, 263, 264], [244, 265, 245], [244, 264, 265], [245, 266, 246], [245, 265, 266], [246, 267, 247], [246, 266, 267], [247, 268, 248], [247, 267, 268], [248, 269, 249], [248, 268, 269], [249, 270, 250], [249, 269, 270], [250, 271, 251], [250, 270, 271], [251, 272, 252], [251, 271, 272], [252, 273, 253], [252, 272, 273], [253, 274, 254], [253, 273, 274], [254, 275, 255], [254, 274, 275], [255, 276, 256], [255, 275, 276], [256, 277, 257], [256, 276, 277], [257, 278, 258], [257, 277, 278], [258, 279, 259], [258, 278, 279], [259, 280, 260], [259, 279, 280], [260, 281, 261], [260, 280, 281], [261, 282, 262], [261, 281, 282], [262, 283, 263], [262, 282, 283], [263, 284, 264], [263, 283, 284], [264, 285, 265], [264, 284, 285], [265, 286, 266], [265, 285, 286], [266, 287, 267], [266, 286, 287], [267, 288, 268], [267, 287, 288], [268, 289, 269], [268, 288, 289], [269, 290, 270], [269, 289, 290], [270, 291, 271], [270, 290, 291], [271, 292, 272], [271, 291, 292], [272, 293, 273], [272, 292, 293], [273, 294, 274], [273, 293, 294], [274, 295, 275], [274, 294, 295], [275, 296, 276], [275, 295, 296], [276, 297, 277], [276, 296, 297], [277, 298, 278], [277, 297, 298], [278, 299, 279], [278, 298, 299], [279, 300, 280], [279, 299, 300], [280, 301, 281], [280, 300, 301], [281, 302, 282], [281, 301, 302], [282, 303, 283], [282, 302, 303], [283, 304, 284], [283, 303, 304], [284, 305, 285], [284, 304, 305], [285, 306, 286], [285, 305, 306], [286, 307, 287], [286, 306, 307], [287, 308, 288], [287, 307, 308], [288, 309, 289], [288, 308, 309], [289, 310, 290], [289, 309, 310], [290, 311, 291], [290, 310, 311], [291, 312, 292], [291, 311, 312], [292, 313, 293], [292, 312, 313], [293, 314, 294], [293, 313, 314], [294, 315, 295], [294, 314, 315], [295, 316, 296], [295, 315, 316], [296, 317, 297], [296, 316, 317], [297, 318, 298], [297, 317, 318], [298, 319, 299], [298, 318, 319], [299, 320, 300], [299, 319, 320], [300, 321, 301], [300, 320, 321], [301, 322, 302], [301, 321, 322], [302, 323, 303], [302, 322, 323], [303, 324, 304], [303, 323, 324], [304, 325, 305], [304, 324, 325], [305, 326, 306], [305, 325, 326], [306, 327, 307], [306, 326, 327], [307, 328, 308], [307, 327, 328], [308, 329, 309], [308, 328, 329], [309, 330, 310], [309, 329, 330], [310, 331, 311], [310, 330, 331], [311, 332, 312], [311, 331, 332], [312, 333, 313], [312, 332, 333], [313, 334, 314], [313, 333, 334], [314, 335, 315], [314, 334, 335], [315, 336, 316], [315, 335, 336], [316, 337, 317], [316, 336, 337], [317, 338, 318], [317, 337, 338], [318, 339, 319], [318, 338, 339], [319, 340, 320], [319, 339, 340], [320, 341, 321], [320, 340, 341], [321, 342, 322], [321, 341, 342], [322, 343, 323], [322, 342, 343], [323, 344, 324], [323, 343, 344], [324, 345, 325], [324, 344, 345], [325, 346, 326], [325, 345, 346], [326, 347, 327], [326, 346, 347], [327, 348, 328], [327, 347, 348], [328, 349, 329], [328, 348, 349], [329, 350, 330], [329, 349, 350], [330, 351, 331], [330, 350, 351], [331, 352, 332], [331, 351, 352], [332, 353, 333], [332, 352, 353], [333, 354, 334], [333, 353, 354], [334, 355, 335], [334, 354, 355], [335, 356, 336], [335, 355, 356], [336, 357, 337], [336, 356, 357], [337, 358, 338], [337, 357, 358], [338, 359, 339], [338, 358, 359], [339, 360, 340], [339, 359, 360], [340, 361, 341], [340, 360, 361], [341, 362, 342], [341, 361, 362], [342, 363, 343], [342, 362, 363], [343, 364, 344], [343, 363, 364], [344, 365, 345], [344, 364, 365], [345, 366, 346], [345, 365, 366], [346, 367, 347], [346, 366, 367], [347, 368, 348], [347, 367, 368], [348, 369, 349], [348, 368, 369], [349, 370, 350], [349, 369, 370], [350, 371, 351], [350, 370, 371], [351, 372, 352], [351, 371, 372], [352, 373, 353], [352, 372, 373], [353, 374, 354], [353, 373, 374], [354, 375, 355], [354, 374, 375], [355, 376, 356], [355, 375, 376], [356, 377, 357], [356, 376, 377], [357, 378, 358], [357, 377, 378], [358, 379, 359], [358, 378, 379], [359, 380, 360], [359, 379, 380], [360, 381, 361], [360, 380, 381], [361, 382, 362], [361, 381, 382], [362, 383, 363], [362, 382, 383], [363, 384, 364], [363, 383, 384], [364, 385, 365], [364, 384, 385], [365, 386, 366], [365, 385, 386], [366, 387, 367], [366, 386, 387], [367, 388, 368], [367, 387, 388], [368, 389, 369], [368, 388, 389], [369, 390, 370], [369, 389, 390], [370, 391, 371], [370, 390, 391], [371, 392, 372], [371, 391, 392], [372, 393, 373], [372, 392, 393], [373, 394, 374], [373, 393, 394], [374, 395, 375], [374, 394, 395], [375, 396, 376], [375, 395, 396], [376, 397, 377], [376, 396, 397], [377, 398, 378], [377, 397, 398], [378, 399, 379], [378, 398, 399], [379, 400, 380], [379, 399, 400], [380, 401, 381], [380, 400, 401], [381, 402, 382], [381, 401, 402], [382, 403, 383], [382, 402, 403], [383, 404, 384], [383, 403, 404], [384, 405, 385], [384, 404, 405], [385, 406, 386], [385, 405, 406], [386, 407, 387], [386, 406, 407], [387, 408, 388], [387, 407, 408], [388, 409, 389], [388, 408, 409], [389, 410, 390], [389, 409, 410], [390, 411, 391], [390, 410, 411], [391, 412, 392], [391, 411, 412], [392, 413, 393], [392, 412, 413], [393, 414, 394], [393, 413, 414], [394, 415, 395], [394, 414, 415], [395, 416, 396], [395, 415, 416], [396, 417, 397], [396, 416, 417], [397, 418, 398], [397, 417, 418], [398, 419, 399], [398, 418, 419], [399, 420, 400], [399, 419, 420], [400, 421, 401], [400, 420, 421], [401, 422, 402], [401, 421, 422], [402, 423, 403], [402, 422, 423], [403, 424, 404], [403, 423, 424], [404, 425, 405], [404, 424, 425], [405, 426, 406], [405, 425, 426], [406, 427, 407], [406, 426, 427], [407, 428, 408], [407, 427, 428], [408, 429, 409], [408, 428, 429], [409, 430, 410], [409, 429, 430], [410, 431, 411], [410, 430, 431], [411, 432, 412], [411, 431, 432], [412, 433, 413], [412, 432, 433], [413, 434, 414], [413, 433, 434], [414, 435, 415], [414, 434, 435], [415, 436, 416], [415, 435, 436], [416, 437, 417], [416, 436, 437], [417, 438, 418], [417, 437, 438], [418, 439, 419], [418, 438, 439], [419, 440, 420], [419, 439, 440], [420, 441, 421], [420, 440, 441], [421, 442, 422], [421, 441, 442], [422, 443, 423], [422, 442, 443], [423, 444, 424], [423, 443, 444], [424, 445, 425], [424, 444, 445], [425, 446, 426], [425, 445, 446], [426, 447, 427], [426, 446, 447], [427, 448, 428], [427, 447, 448], [428, 449, 429], [428, 448, 449], [429, 450, 430], [429, 449, 450], [430, 451, 431], [430, 450, 451], [431, 452, 432], [431, 451, 452], [432, 453, 433], [432, 452, 453], [433, 454, 434], [433, 453, 454], [434, 455, 435], [434, 454, 455], [435, 456, 436], [435, 455, 456], [436, 457, 437], [436, 456, 457], [437, 458, 438], [437, 457, 458], [438, 459, 439], [438, 458, 459], [439, 460, 440], [439, 459, 460], [440, 461, 441], [440, 460, 461], [441, 462, 442], [441, 461, 462], [442, 463, 443], [442, 462, 463], [443, 464, 444], [443, 463, 464], [444, 465, 445], [444, 464, 465], [445, 466, 446], [445, 465, 466], [446, 467, 447], [446, 466, 467], [447, 468, 448], [447, 467, 468], [448, 469, 449], [448, 468, 469], [449, 470, 450], [449, 469, 470], [450, 471, 451], [450, 470, 471], [451, 472, 452], [451, 471, 472], [452, 473, 453], [452, 472, 473], [453, 474, 454], [453, 473, 474], [454, 475, 455], [454, 474, 475], [455, 476, 456], [455, 475, 476], [456, 477, 457], [456, 476, 477], [457, 478, 458], [457, 477, 478], [458, 479, 459], [458, 478, 479], [459, 480, 460], [459, 479, 480], [460, 481, 461], [460, 480, 481], [461, 482, 462], [461, 481, 482], [462, 483, 463], [462, 482, 483], [463, 484, 464], [463, 483, 484], [464, 485, 465], [464, 484, 485], [465, 486, 466], [465, 485, 486], [466, 487, 467], [466, 486, 487], [467, 488, 468], [467, 487, 488], [468, 489, 469], [468, 488, 489], [469, 490, 470], [469, 489, 490], [470, 491, 471], [470, 490, 491], [471, 492, 472], [471, 491, 492], [472, 493, 473], [472, 492, 493], [473, 494, 474], [473, 493, 494], [474, 495, 475], [474, 494, 495], [475, 496, 476], [475, 495, 496], [476, 497, 477], [476, 496, 497], [477, 498, 478], [477, 497, 498], [478, 499, 479], [478, 498, 499], [479, 500, 480], [479, 499, 500], [480, 501, 481], [480, 500, 501], [481, 502, 482], [481, 501, 502], [482, 503, 483], [482, 502, 503], [483, 504, 484], [483, 503, 504], [484, 505, 485], [484, 504, 505], [485, 506, 486], [485, 505, 506], [486, 507, 487], [486, 506, 507], [487, 508, 488], [487, 507, 508], [488, 509, 489], [488, 508, 509], [489, 510, 490], [489, 509, 510], [490, 511, 491], [490, 510, 511], [491, 512, 492], [491, 511, 512], [492, 513, 493], [492, 512, 513], [493, 514, 494], [493, 513, 514], [494, 515, 495], [494, 514, 515], [495, 516, 496], [495, 515, 516], [496, 517, 497], [496, 516, 517], [497, 518, 498], [497, 517, 518], [498, 519, 499], [498, 518, 519], [499, 520, 500], [499, 519, 520], [500, 521, 501], [500, 520, 521], [501, 522, 502], [501, 521, 522], [502, 523, 503], [502, 522, 523], [503, 524, 504], [503, 523, 524], [504, 525, 505], [504, 524, 525], [505, 526, 506], [505, 525, 526], [506, 527, 507], [506, 526, 527], [507, 528, 508], [507, 527, 528], [508, 529, 509], [508, 528, 529], [509, 530, 510], [509, 529, 530], [510, 531, 511], [510, 530, 531], [511, 532, 512], [511, 531, 532], [512, 533, 513], [512, 532, 533], [513, 534, 514], [513, 533, 534], [514, 535, 515], [514, 534, 535], [515, 536, 516], [515, 535, 536], [516, 537, 517], [516, 536, 537], [517, 538, 518], [517, 537, 538], [518, 539, 519], [518, 538, 539], [519, 540, 520], [519, 539, 540], [520, 541, 521], [520, 540, 541], [521, 542, 522], [521, 541, 542], [522, 543, 523], [522, 542, 543], [523, 544, 524], [523, 543, 544], [524, 545, 525], [524, 544, 545], [525, 546, 526], [525, 545, 546], [526, 547, 527], [526, 546, 547], [527, 548, 528], [527, 547, 548], [528, 549, 529], [528, 548, 549], [529, 550, 530], [529, 549, 550], [530, 551, 531], [530, 550, 551], [531, 552, 532], [531, 551, 552], [532, 553, 533], [532, 552, 553], [533, 554, 534], [533, 553, 554], [534, 555, 535], [534, 554, 555], [535, 556, 536], [535, 555, 556], [536, 557, 537], [536, 556, 557], [537, 558, 538], [537, 557, 558], [538, 559, 539], [538, 558, 559], [539, 560, 540], [539, 559, 560], [540, 561, 541], [540, 560, 561], [541, 562, 542], [541, 561, 562], [542, 563, 543], [542, 562, 563], [543, 564, 544], [543, 563, 564], [544, 565, 545], [544, 564, 565], [545, 566, 546], [545, 565, 566], [546, 567, 547], [546, 566, 567], [547, 568, 548], [547, 567, 568], [548, 569, 549], [548, 568, 569], [549, 570, 550], [549, 569, 570], [550, 571, 551], [550, 570, 571], [551, 572, 552], [551, 571, 572], [552, 573, 553], [552, 572, 573], [553, 574, 554], [553, 573, 574], [554, 575, 555], [554, 574, 575], [555, 576, 556], [555, 575, 576], [556, 577, 557], [556, 576, 577], [557, 578, 558], [557, 577, 578], [558, 579, 559], [558, 578, 579], [559, 580, 560], [559, 579, 580], [560, 581, 561], [560, 580, 581], [561, 582, 562], [561, 581, 582], [562, 583, 563], [562, 582, 583], [563, 584, 564], [563, 583, 584], [564, 585, 565], [564, 584, 585], [565, 586, 566], [565, 585, 586], [566, 587, 567], [566, 586, 587], [567, 588, 568], [567, 587, 588], [568, 589, 569], [568, 588, 589], [569, 590, 570], [569, 589, 590], [570, 591, 571], [570, 590, 591], [571, 592, 572], [571, 591, 592], [572, 593, 573], [572, 592, 593], [573, 594, 574], [573, 593, 594], [574, 595, 575], [574, 594, 595], [575, 596, 576], [575, 595, 596], [576, 597, 577], [576, 596, 597], [577, 598, 578], [577, 597, 598], [578, 599, 579], [578, 598, 599], [579, 600, 580], [579, 599, 600], [580, 601, 581], [580, 600, 601], [581, 602, 582], [581, 601, 602], [582, 603, 583], [582, 602, 603], [583, 604, 584], [583, 603, 604], [584, 605, 585], [584, 604, 605], [585, 606, 586], [585, 605, 606], [586, 607, 587], [586, 606, 607], [587, 608, 588], [587, 607, 608], [588, 609, 589], [588, 608, 609], [589, 610, 590], [589, 609, 610], [590, 611, 591], [590, 610, 611], [591, 612, 592], [591, 611, 612], [592, 613, 593], [592, 612, 613], [593, 614, 594], [593, 613, 614], [594, 615, 595], [594, 614, 615], [595, 616, 596], [595, 615, 616], [596, 617, 597], [596, 616, 617], [597, 618, 598], [597, 617, 618], [598, 619, 599], [598, 618, 619], (0, 1, 620), (619, 618, 621), (1, 2, 620), (618, 617, 621), (2, 3, 620), (617, 616, 621), (3, 4, 620), (616, 615, 621), (4, 5, 620), (615, 614, 621), (5, 6, 620), (614, 613, 621), (6, 7, 620), (613, 612, 621), (7, 8, 620), (612, 611, 621), (8, 9, 620), (611, 610, 621), (9, 10, 620), (610, 609, 621), (10, 11, 620), (609, 608, 621), (11, 12, 620), (608, 607, 621), (12, 13, 620), (607, 606, 621), (13, 14, 620), (606, 605, 621), (14, 15, 620), (605, 604, 621), (15, 16, 620), (604, 603, 621), (16, 17, 620), (603, 602, 621), (17, 18, 620), (602, 601, 621), (18, 19, 620), (601, 600, 621), (19, 20, 620), (600, 599, 621)]\n"
     ]
    },
    {
     "data": {
      "text/plain": [
       "622"
      ]
     },
     "execution_count": 3,
     "metadata": {},
     "output_type": "execute_result"
    }
   ],
   "source": [
    "print(faces)\n",
    "len(cuboid_points)"
   ]
  },
  {
   "cell_type": "code",
   "execution_count": 4,
   "metadata": {},
   "outputs": [
    {
     "data": {
      "text/html": [
       "<table class=\"show_images\" style=\"border-spacing:0px;\"><tr><td style=\"padding:1px;\"><img width=\"320\" height=\"240\" style=\"image-rendering:auto; object-fit:cover;\" src=\"data:image/png;base64,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\"/></td></tr></table>"
      ],
      "text/plain": [
       "<IPython.core.display.HTML object>"
      ]
     },
     "metadata": {},
     "output_type": "display_data"
    }
   ],
   "source": [
    "from glider.vehicle import Vehicle\n",
    "\n",
    "vehicle = Vehicle(\n",
    "    vertices=cuboid_points,\n",
    "    faces=faces,\n",
    "    max_dim_m=10,\n",
    ")\n",
    "\n",
    "vehicle.show()"
   ]
  },
  {
   "cell_type": "code",
   "execution_count": 5,
   "metadata": {},
   "outputs": [],
   "source": [
    "from glider.optimization import drop_test_glider\n",
    "\n",
    "world_xml = drop_test_glider(\n",
    "    *vehicle.create_glider_from_vertices(),\n",
    "\n",
    "    )\n",
    "\n",
    "with open('world.xml', 'w') as f:\n",
    "    f.write(world_xml)"
   ]
  },
  {
   "cell_type": "code",
   "execution_count": 6,
   "metadata": {},
   "outputs": [
    {
     "name": "stdout",
     "output_type": "stream",
     "text": [
      "Iteration: 0\n",
      "Fitness: 2.0780678668415082\n",
      "Iteration: 10\n",
      "Fitness: 2.486413013724432\n",
      "Iteration: 20\n",
      "Fitness: 2.486413013724432\n",
      "Iteration: 30\n",
      "Fitness: 2.486413013724432\n",
      "Iteration: 40\n",
      "Fitness: 2.486413013724432\n",
      "Iteration: 50\n",
      "Fitness: 2.486413013724432\n",
      "Iteration: 60\n",
      "Fitness: 2.486413013724432\n",
      "Iteration: 70\n",
      "Fitness: 2.486413013724432\n",
      "Iteration: 80\n",
      "Fitness: 2.486413013724432\n",
      "Iteration: 90\n",
      "Fitness: 2.486413013724432\n"
     ]
    }
   ],
   "source": [
    "from glider.optimization import iterate_population, fitness_func\n",
    "from glider.visualize import view_vehicle\n",
    "from glider.vehicle import Vehicle\n",
    "\n",
    "frames = []\n",
    "\n",
    "\n",
    "population = [\n",
    "    Vehicle(\n",
    "        vertices=cuboid_points,\n",
    "        faces=faces,\n",
    "        orientation=[90,180,-20],\n",
    "    ) for _ in range(100)] \n",
    "\n",
    "for i in range(100):\n",
    "    population = iterate_population(\n",
    "        population,\n",
    "        survival_weight = 0.5,\n",
    "        cloning_weight = 0.5,\n",
    "    )\n",
    "\n",
    "    if i % 10 == 0:\n",
    "        print(\"Iteration:\", i)\n",
    "        winning_glider = population[0]\n",
    "        print(\"Fitness:\", fitness_func(winning_glider))\n",
    "        # vehicle.Vehicle(vertices=winning_genes).show()\n",
    "        frames.append(view_vehicle(*winning_glider.create_glider_from_vertices()))"
   ]
  },
  {
   "cell_type": "code",
   "execution_count": 7,
   "metadata": {},
   "outputs": [
    {
     "data": {
      "text/html": [
       "<table class=\"show_videos\" style=\"border-spacing:0px;\"><tr><td style=\"padding:1px;\"><video controls width=\"320\" height=\"240\" style=\"object-fit:cover;\" loop autoplay muted>\n",
       "      <source src=\"data:video/mp4;base64,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\" type=\"video/mp4\"/>\n",
       "      This browser does not support the video tag.\n",
       "      </video></td></tr></table>"
      ],
      "text/plain": [
       "<IPython.core.display.HTML object>"
      ]
     },
     "metadata": {},
     "output_type": "display_data"
    }
   ],
   "source": [
    "import mediapy as media\n",
    "\n",
    "media.show_video(frames, fps=2)"
   ]
  },
  {
   "cell_type": "code",
   "execution_count": 8,
   "metadata": {},
   "outputs": [
    {
     "name": "stdout",
     "output_type": "stream",
     "text": [
      "<glider.vehicle.Vehicle object at 0x1398e78d0>\n"
     ]
    }
   ],
   "source": [
    "print(population[0])"
   ]
  },
  {
   "cell_type": "code",
   "execution_count": 9,
   "metadata": {},
   "outputs": [],
   "source": [
    "world_xml = drop_test_glider(*population[0].create_glider_from_vertices())"
   ]
  },
  {
   "cell_type": "code",
   "execution_count": 10,
   "metadata": {},
   "outputs": [],
   "source": [
    "with open('./world.xml', 'w') as f:\n",
    "    f.write(world_xml)"
   ]
  },
  {
   "cell_type": "code",
   "execution_count": null,
   "metadata": {},
   "outputs": [],
   "source": []
  }
 ],
 "metadata": {
  "kernelspec": {
   "display_name": ".env",
   "language": "python",
   "name": "python3"
  },
  "language_info": {
   "codemirror_mode": {
    "name": "ipython",
    "version": 3
   },
   "file_extension": ".py",
   "mimetype": "text/x-python",
   "name": "python",
   "nbconvert_exporter": "python",
   "pygments_lexer": "ipython3",
   "version": "3.11.0"
  },
  "orig_nbformat": 4
 },
 "nbformat": 4,
 "nbformat_minor": 2
}
