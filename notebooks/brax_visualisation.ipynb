{
 "cells": [
  {
   "cell_type": "code",
   "execution_count": 1,
   "metadata": {},
   "outputs": [
    {
     "name": "stdout",
     "output_type": "stream",
     "text": [
      "Note: you may need to restart the kernel to use updated packages.\n"
     ]
    }
   ],
   "source": [
    "%pip install -Uqq brax jax mujoco"
   ]
  },
  {
   "cell_type": "code",
   "execution_count": 11,
   "metadata": {},
   "outputs": [
    {
     "name": "stdout",
     "output_type": "stream",
     "text": [
      "0.0\t0.0\n",
      "0.0\t0.0\n",
      "1.0\t0.0\n",
      "0.12278780341148376\t0.0\n",
      "-0.12278780341148376\t0.0\n",
      "0.6963642239570618\t0.0\n"
     ]
    }
   ],
   "source": [
    "import brax\n",
    "import jax\n",
    "from jax import numpy as jp\n",
    "from brax import envs\n",
    "from brax.positional import pipeline\n",
    "from brax.io import html, mjcf\n",
    "from IPython.display import HTML, display\n",
    "\n",
    "with open('aerofoil_drop_test.xml', 'r') as f:\n",
    "    world_xml = f.read()\n",
    "\n",
    "drop_test = mjcf.loads(world_xml)\n",
    "\n",
    "state = pipeline.init(drop_test, drop_test.init_q, jp.zeros(drop_test.qd_size()))\n",
    "\n",
    "for q, qd in zip(state.q, state.qd):\n",
    "  print(f'{q}\\t{qd}')"
   ]
  },
  {
   "cell_type": "code",
   "execution_count": null,
   "metadata": {},
   "outputs": [],
   "source": []
  }
 ],
 "metadata": {
  "kernelspec": {
   "display_name": "Python 3",
   "language": "python",
   "name": "python3"
  },
  "language_info": {
   "codemirror_mode": {
    "name": "ipython",
    "version": 3
   },
   "file_extension": ".py",
   "mimetype": "text/x-python",
   "name": "python",
   "nbconvert_exporter": "python",
   "pygments_lexer": "ipython3",
   "version": "3.11.0"
  }
 },
 "nbformat": 4,
 "nbformat_minor": 2
}
