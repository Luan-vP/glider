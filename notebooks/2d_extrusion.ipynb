{
 "cells": [
  {
   "cell_type": "code",
   "execution_count": 1,
   "metadata": {},
   "outputs": [],
   "source": [
    "# 0 - layer_density\n",
    "aerofoil_profile = [\n",
    "    (0.0, 0.0, 0.0),\n",
    "    (1.0, 0.5, 0.0),\n",
    "    (2.0, 0.5, 0.0),\n",
    "    (3.0, 1.0, 0.0),\n",
    "    (4.0, 1.0, 0.0),\n",
    "    (5.0, 1.0, 0.0),\n",
    "    (6.0, 1.0, 0.0),\n",
    "    (7.0, 1.5, 0.0),\n",
    "    (8.0, 1.5, 0.0),\n",
    "    (9.0, 2.0, 0.0),\n",
    "    (10.0, 2.0, 0.0),\n",
    "    (11.0, 2.0, 0.0),\n",
    "    (12.0, 1.5, 0.0),\n",
    "    (13.0, 1.5, 0.0),\n",
    "    (14.0, 1.5, 0.0),\n",
    "    (15.0, 1.5, 0.0),\n",
    "    (16.0, 1.0, 0.0),\n",
    "    (17.0, 1.0, 0.0),\n",
    "    (18.0, 0.5, 0.0),\n",
    "    (19.0, 1.0, 0.0),\n",
    "    (20.0, 1.0, 0.0),\n",
    "    (21.0, 1.5, 0.0),\n",
    "    (22.0, 2.0, 0.0),\n",
    "    (22.0, 3.0, 0.0),\n",
    "    (22.0, 4.0, 0.0),\n",
    "    (22.0, 5.0, 0.0),\n",
    "    (21.0, 5.5, 0.0),\n",
    "    (20.0, 6.0, 0.0),\n",
    "    (19.0, 6.5, 0.0),\n",
    "    (18.0, 6.5, 0.0),\n",
    "    (17.0, 6.5, 0.0),\n",
    "    (16.0, 6.0, 0.0),\n",
    "    (15.0, 6.0, 0.0),\n",
    "    (14.0, 6.0, 0.0),\n",
    "    (13.0, 5.5, 0.0),\n",
    "    (12.0, 5.0, 0.0),\n",
    "    (11.0, 5.0, 0.0),\n",
    "    (10.0, 5.0, 0.0),\n",
    "    (9.0, 4.5, 0.0),\n",
    "    (8.0, 4.0, 0.0),\n",
    "    (7.0, 4.0, 0.0),\n",
    "    (6.0, 3.0, 0.0),\n",
    "    (5.0, 3.0, 0.0),\n",
    "    (4.0, 2.5, 0.0),\n",
    "    (3.0, 2.0, 0.0),\n",
    "    (2.0, 1.5, 0.0),\n",
    "    (1.0, 1.0, 0.0)\n",
    "]\n",
    "\n",
    "scale_factor = 5.0 / 22.0\n",
    "\n",
    "scaled_aerofoil_profile = [(a*scale_factor, b*scale_factor, c*scale_factor) for a, b, c in aerofoil_profile]\n"
   ]
  },
  {
   "cell_type": "code",
   "execution_count": 2,
   "metadata": {},
   "outputs": [],
   "source": [
    "cuboid_profile = [\n",
    "    (0.0, 0.0, 0.0),\n",
    "    (1.0, 0.0, 0.0),\n",
    "    (2.0, 0.0, 0.0),\n",
    "    (3.0, 0.0, 0.0),\n",
    "    (4.0, 0.0, 0.0),\n",
    "    (5.0, 0.0, 0.0),\n",
    "    (5.0, 0.5, 0.0),\n",
    "    (5.0, 1.0, 0.0),\n",
    "    (5.0, 1.5, 0.0),\n",
    "    (4.0, 1.5, 0.0),\n",
    "    (3.0, 1.5, 0.0),\n",
    "    (2.0, 1.5, 0.0),\n",
    "    (1.0, 1.5, 0.0),\n",
    "    (0.0, 1.5, 0.0),\n",
    "    (0.0, 1.0, 0.0),\n",
    "    (0.0, 0.5, 0.0),\n",
    "]"
   ]
  },
  {
   "cell_type": "code",
   "execution_count": 3,
   "metadata": {},
   "outputs": [],
   "source": [
    "import numpy as np\n",
    "from copy import deepcopy\n",
    "\n",
    "LAYER_SPACING = 0.5\n",
    "\n",
    "def extrude_profile(profile: list[tuple], depth: float, layer_spacing = LAYER_SPACING) -> tuple[list]:\n",
    "\n",
    "    points_per_layer = len(profile)\n",
    "\n",
    "    extruded_profile = deepcopy(profile)\n",
    "    for k in range(int(depth / layer_spacing)):\n",
    "        for i in range(points_per_layer):\n",
    "            extruded_profile.append((extruded_profile[i][0], extruded_profile[i][1], (k + 1) * layer_spacing))\n",
    "\n",
    "    faces = []\n",
    "\n",
    "\n",
    "    i = 0\n",
    "    while i + points_per_layer + 1 < len(extruded_profile):\n",
    "        faces.append([i, i + points_per_layer + 1, i + 1])\n",
    "        faces.append([i, i + points_per_layer, i + points_per_layer + 1])\n",
    "        i += 1\n",
    "\n",
    "    # Cap off the ends\n",
    "\n",
    "    # left face\n",
    "\n",
    "    left_edge = list(range(0, points_per_layer))\n",
    "\n",
    "    left_edge.reverse()\n",
    "\n",
    "    left_outer_point = (0.0, 0.0, -layer_spacing)\n",
    "    right_outer_point = (0.0, 0.0, depth + layer_spacing)\n",
    "\n",
    "\n",
    "\n",
    "    extruded_profile.append(left_outer_point)  # i=-2\n",
    "    extruded_profile.append(right_outer_point)  # i=-1\n",
    "\n",
    "    for i in range(points_per_layer):\n",
    "        faces.append((i, i+1, len(extruded_profile) - 2))\n",
    "        faces.append((len(extruded_profile) - 3 - i, len(extruded_profile) - 4 - i, len(extruded_profile) - 1))\n",
    "\n",
    "    return extruded_profile, faces\n"
   ]
  },
  {
   "cell_type": "code",
   "execution_count": 4,
   "metadata": {},
   "outputs": [],
   "source": [
    "aerofoil_vertices, aerofoil_faces = extrude_profile(scaled_aerofoil_profile, depth=15.0)\n",
    "cuboid_vertices, cuboid_faces = extrude_profile(cuboid_profile, depth=15.0)"
   ]
  },
  {
   "cell_type": "code",
   "execution_count": 5,
   "metadata": {},
   "outputs": [
    {
     "data": {
      "text/html": [
       "<table class=\"show_images\" style=\"border-spacing:0px;\"><tr><td style=\"padding:1px;\"><img width=\"320\" height=\"240\" style=\"image-rendering:auto; object-fit:cover;\" src=\"data:image/png;base64,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\"/></td></tr></table>"
      ],
      "text/plain": [
       "<IPython.core.display.HTML object>"
      ]
     },
     "metadata": {},
     "output_type": "display_data"
    }
   ],
   "source": [
    "from glider.vehicle import Vehicle\n",
    "\n",
    "aerofoil_vehicle = Vehicle(\n",
    "    vertices=aerofoil_vertices,\n",
    "    faces=aerofoil_faces,\n",
    "    mass_kg=8.0,\n",
    "    orientation=[90,180,-20]\n",
    ")\n",
    "\n",
    "aerofoil_vehicle.show()"
   ]
  },
  {
   "cell_type": "code",
   "execution_count": 6,
   "metadata": {},
   "outputs": [
    {
     "data": {
      "text/html": [
       "<table class=\"show_images\" style=\"border-spacing:0px;\"><tr><td style=\"padding:1px;\"><img width=\"320\" height=\"240\" style=\"image-rendering:auto; object-fit:cover;\" src=\"data:image/png;base64,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\"/></td></tr></table>"
      ],
      "text/plain": [
       "<IPython.core.display.HTML object>"
      ]
     },
     "metadata": {},
     "output_type": "display_data"
    }
   ],
   "source": [
    "cuboid_vehicle = Vehicle(\n",
    "    vertices=cuboid_vertices,\n",
    "    faces=cuboid_faces,\n",
    "    mass_kg=8.0,\n",
    "    orientation=[90,180,-20]\n",
    ")\n",
    "\n",
    "cuboid_vehicle.show()"
   ]
  },
  {
   "cell_type": "code",
   "execution_count": 7,
   "metadata": {},
   "outputs": [],
   "source": [
    "from glider.optimization import drop_test_glider\n",
    "\n",
    "aerofoil_test_xml = drop_test_glider(\n",
    "    *aerofoil_vehicle.create_glider_from_vertices(),\n",
    ")\n",
    "\n",
    "with open('aerofoil_drop_test.xml', 'w') as f:\n",
    "    f.write(aerofoil_test_xml)\n",
    "\n",
    "cuboid_test_xml = drop_test_glider(\n",
    "    *cuboid_vehicle.create_glider_from_vertices(),\n",
    ")\n",
    "\n",
    "with open('cuboid_drop_test.xml', 'w') as f:\n",
    "    f.write(cuboid_test_xml)"
   ]
  },
  {
   "cell_type": "code",
   "execution_count": 8,
   "metadata": {},
   "outputs": [
    {
     "name": "stdout",
     "output_type": "stream",
     "text": [
      "Aerofoil fitness: 32.73017620845507\n",
      "Cuboid fitness: 27.827196995593148\n"
     ]
    }
   ],
   "source": [
    "from glider.optimization import fitness_func\n",
    "\n",
    "aerofoil_fitness = fitness_func(aerofoil_vehicle)\n",
    "cuboid_fitness = fitness_func(cuboid_vehicle)\n",
    "\n",
    "print(f'Aerofoil fitness: {aerofoil_fitness}')\n",
    "print(f'Cuboid fitness: {cuboid_fitness}')"
   ]
  },
  {
   "cell_type": "code",
   "execution_count": 10,
   "metadata": {},
   "outputs": [
    {
     "ename": "NameError",
     "evalue": "name 'frames' is not defined",
     "output_type": "error",
     "traceback": [
      "\u001b[0;31m---------------------------------------------------------------------------\u001b[0m",
      "\u001b[0;31mNameError\u001b[0m                                 Traceback (most recent call last)",
      "\u001b[1;32m/Users/luan/Developer/glider/notebooks/2d_extrusion.ipynb Cell 10\u001b[0m line \u001b[0;36m3\n\u001b[1;32m      <a href='vscode-notebook-cell:/Users/luan/Developer/glider/notebooks/2d_extrusion.ipynb#X10sZmlsZQ%3D%3D?line=0'>1</a>\u001b[0m \u001b[39mimport\u001b[39;00m \u001b[39mmediapy\u001b[39;00m \u001b[39mas\u001b[39;00m \u001b[39mmedia\u001b[39;00m\n\u001b[0;32m----> <a href='vscode-notebook-cell:/Users/luan/Developer/glider/notebooks/2d_extrusion.ipynb#X10sZmlsZQ%3D%3D?line=2'>3</a>\u001b[0m media\u001b[39m.\u001b[39mshow_video(frames, fps\u001b[39m=\u001b[39m\u001b[39m2\u001b[39m)\n",
      "\u001b[0;31mNameError\u001b[0m: name 'frames' is not defined"
     ]
    }
   ],
   "source": [
    "import mediapy as media\n",
    "\n",
    "media.show_video(frames, fps=2)"
   ]
  }
 ],
 "metadata": {
  "kernelspec": {
   "display_name": ".env",
   "language": "python",
   "name": "python3"
  },
  "language_info": {
   "codemirror_mode": {
    "name": "ipython",
    "version": 3
   },
   "file_extension": ".py",
   "mimetype": "text/x-python",
   "name": "python",
   "nbconvert_exporter": "python",
   "pygments_lexer": "ipython3",
   "version": "3.11.0"
  },
  "orig_nbformat": 4
 },
 "nbformat": 4,
 "nbformat_minor": 2
}
