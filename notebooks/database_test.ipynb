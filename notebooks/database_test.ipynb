{
 "cells": [
  {
   "cell_type": "code",
   "execution_count": 13,
   "metadata": {},
   "outputs": [
    {
     "ename": "ModuleNotFoundError",
     "evalue": "No module named 'glider'",
     "output_type": "error",
     "traceback": [
      "\u001b[0;31m---------------------------------------------------------------------------\u001b[0m",
      "\u001b[0;31mModuleNotFoundError\u001b[0m                       Traceback (most recent call last)",
      "\u001b[1;32m/Users/luan/Developer/glider/backend/notebooks/database_test.ipynb Cell 1\u001b[0m line \u001b[0;36m1\n\u001b[0;32m----> <a href='vscode-notebook-cell:/Users/luan/Developer/glider/backend/notebooks/database_test.ipynb#W0sZmlsZQ%3D%3D?line=0'>1</a>\u001b[0m \u001b[39mfrom\u001b[39;00m \u001b[39mglider\u001b[39;00m \u001b[39mimport\u001b[39;00m database\n\u001b[1;32m      <a href='vscode-notebook-cell:/Users/luan/Developer/glider/backend/notebooks/database_test.ipynb#W0sZmlsZQ%3D%3D?line=2'>3</a>\u001b[0m \u001b[39mwith\u001b[39;00m get_db() \u001b[39mas\u001b[39;00m db:\n\u001b[1;32m      <a href='vscode-notebook-cell:/Users/luan/Developer/glider/backend/notebooks/database_test.ipynb#W0sZmlsZQ%3D%3D?line=3'>4</a>\u001b[0m     database\u001b[39m.\u001b[39mwrite(db, {\u001b[39m'\u001b[39m\u001b[39mtest\u001b[39m\u001b[39m'\u001b[39m: \u001b[39m1\u001b[39m})\n",
      "\u001b[0;31mModuleNotFoundError\u001b[0m: No module named 'glider'"
     ]
    }
   ],
   "source": [
    "from glider import database\n",
    "\n",
    "with get_db() as db:\n",
    "    database.write(db, {'test': 1})"
   ]
  },
  {
   "cell_type": "code",
   "execution_count": null,
   "metadata": {},
   "outputs": [],
   "source": []
  }
 ],
 "metadata": {
  "kernelspec": {
   "display_name": ".env",
   "language": "python",
   "name": "python3"
  },
  "language_info": {
   "codemirror_mode": {
    "name": "ipython",
    "version": 3
   },
   "file_extension": ".py",
   "mimetype": "text/x-python",
   "name": "python",
   "nbconvert_exporter": "python",
   "pygments_lexer": "ipython3",
   "version": "3.11.4"
  }
 },
 "nbformat": 4,
 "nbformat_minor": 2
}
