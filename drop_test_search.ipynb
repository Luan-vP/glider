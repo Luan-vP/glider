{
    "cells": [
        {
            "cell_type": "markdown",
            "metadata": {
                "colab_type": "text",
                "id": "view-in-github"
            },
            "source": [
                "<a href=\"https://colab.research.google.com/github/Luan-vP/glider/blob/main/Glider_Evolution.ipynb\" target=\"_parent\"><img src=\"https://colab.research.google.com/assets/colab-badge.svg\" alt=\"Open In Colab\"/></a>"
            ]
        },
        {
            "cell_type": "code",
            "execution_count": 1,
            "metadata": {},
            "outputs": [
                {
                    "name": "stdout",
                    "output_type": "stream",
                    "text": [
                        "\n"
                    ]
                }
            ],
            "source": [
                "from pathlib import Path\n",
                "\n",
                "repository_path = Path('.').resolve()\n",
                "\n",
                "!pip install -Uqq -r {repository_path}/requirements.txt -r {repository_path}/requirements-dev.txt\n",
                "\n",
                "!export PYTHONPATH=$PYTHONPATH:..:../src\n",
                "!echo $PYTHONPATH"
            ]
        },
        {
            "cell_type": "code",
            "execution_count": 6,
            "metadata": {},
            "outputs": [],
            "source": [
                "import mujoco\n",
                "\n",
                "from optimization import setup_drop_test\n",
                "from vehicle import create_glider_xml\n",
                "from constants import DEFAULT_STL_FILEPATH\n",
                "from observability import extract_forwards_accn\n",
                "\n",
                "world_xml = setup_drop_test()\n",
                "\n",
                "\n",
                "\n",
                "time_series_accn = extract_forwards_accn(setup_drop_test())\n",
                "\n",
                "\n"
            ]
        },
        {
            "cell_type": "code",
            "execution_count": 9,
            "metadata": {},
            "outputs": [
                {
                    "data": {
                        "text/plain": [
                            "[<matplotlib.lines.Line2D at 0x2a2501cd0>]"
                        ]
                    },
                    "execution_count": 9,
                    "metadata": {},
                    "output_type": "execute_result"
                },
                {
                    "data": {
                        "image/png": "[encoded data removed]",
                        "text/plain": [
                            "<Figure size 640x480 with 1 Axes>"
                        ]
                    },
                    "metadata": {},
                    "output_type": "display_data"
                }
            ],
            "source": [
                "import matplotlib.pyplot as plt\n",
                "import numpy as np\n",
                "\n",
                "fig, ax = plt.subplots()\n",
                "\n",
                "\n",
                "\n",
                "time_lables = np.linspace(0, 17.38, len(time_series_accn))\n",
                "\n",
                "ax.plot(time_lables, time_series_accn, label=\"Acceleration\")\n",
                "\n"
            ]
        },
        {
            "cell_type": "markdown",
            "metadata": {},
            "source": [
                "Render a generation of \"gliders\" definted by their STL vertices."
            ]
        },
        {
            "cell_type": "code",
            "execution_count": 14,
            "metadata": {},
            "outputs": [
                {
                    "name": "stdout",
                    "output_type": "stream",
                    "text": [
                        "[Vehicle(), Vehicle(), Vehicle(), Vehicle(), Vehicle(), Vehicle()]\n"
                    ]
                }
            ],
            "source": [
                "from vehicle import Vehicle\n",
                "from constants import DEFAULT_STL_FILEPATH\n",
                "from optimization import measure_drop_test\n",
                "import simulation\n",
                "from visualize import render_initial_pixels\n",
                "\n",
                "import mediapy as media\n",
                "\n",
                "\n",
                "def prep_generation(population: int = 6) -> list[Vehicle]:\n",
                "    population = [Vehicle(filename=DEFAULT_STL_FILEPATH) for i in range(population)]\n",
                "    for v in population:\n",
                "        v.mutate()\n",
                "    \n",
                "    return population\n",
                "\n",
                "generation = [Vehicle(filename=DEFAULT_STL_FILEPATH) for i in range(6)]\n",
                "print(generation)\n",
                "\n"
            ]
        },
        {
            "cell_type": "code",
            "execution_count": 29,
            "metadata": {},
            "outputs": [],
            "source": [
                "max_distance = max(results)\n",
                "winning_glider = generation[results.index(max_distance)]\n",
                "\n",
                "# --------   #\n",
                "\n",
                "new_generation = []\n",
                "results = []\n",
                "for i in range(0, len(generation)):\n",
                "    vehicle = Vehicle(vertices=winning_glider.vertices)\n",
                "    vehicle.mutate()\n",
                "\n",
                "    new_generation.append(vehicle)\n",
                "    result = measure_drop_test(*v.create_glider_from_vertices(), height=800)\n",
                "    results.append(result)\n",
                "\n",
                "generation = new_generation\n"
            ]
        },
        {
            "cell_type": "code",
            "execution_count": 30,
            "metadata": {},
            "outputs": [
                {
                    "name": "stdout",
                    "output_type": "stream",
                    "text": [
                        "Max distance:  50.37597028123282\n"
                    ]
                },
                {
                    "data": {
                        "text/html": [
                            "<table class=\"show_images\" style=\"border-spacing:0px;\"><tr><td style=\"padding:1px;\"><img width=\"320\" height=\"240\" style=\"image-rendering:auto; object-fit:cover;\" src=\"data:image/png;base64,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\"/></td></tr></table>"
                        ],
                        "text/plain": [
                            "<IPython.core.display.HTML object>"
                        ]
                    },
                    "metadata": {},
                    "output_type": "display_data"
                },
                {
                    "name": "stdout",
                    "output_type": "stream",
                    "text": [
                        "50.37597028123282\n"
                    ]
                }
            ],
            "source": [
                "# find max distance in 'results' array\n",
                "\n",
                "max_distance = max(results)\n",
                "winning_glider = generation[results.index(max_distance)]\n",
                "\n",
                "print(\"Max distance: \", max_distance)\n",
                "orientation = [200, 200, 100]\n",
                "world_xml = simulation.wrap_glider(\n",
                "    *winning_glider.create_glider_from_vertices(\n",
                "        orientation=orientation,\n",
                "        scale=4.0,\n",
                "    )\n",
                ")\n",
                "media.show_image(render_initial_pixels(world_xml))\n",
                "print(result)"
            ]
        },
        {
            "cell_type": "code",
            "execution_count": 33,
            "metadata": {},
            "outputs": [],
            "source": [
                "import simulation\n",
                "\n",
                "world_xml = simulation.drop_test_glider(\n",
                "    *winning_glider.create_glider_from_vertices(),\n",
                "    height=800\n",
                ")\n",
                "\n",
                "with open(\"/Users/luan/Developer/glider/assets/worlds/world.xml\", \"w\") as f:\n",
                "    f.write(world_xml)"
            ]
        },
        {
            "cell_type": "code",
            "execution_count": null,
            "metadata": {},
            "outputs": [],
            "source": []
        }
    ],
    "metadata": {
        "accelerator": "GPU",
        "colab": {
            "authorship_tag": "ABX9TyOZUuXdsXxggvP+IOiTfZbk",
            "gpuType": "A100",
            "include_colab_link": true,
            "provenance": []
        },
        "kernelspec": {
            "display_name": "Python 3",
            "name": "python3"
        },
        "language_info": {
            "codemirror_mode": {
                "name": "ipython",
                "version": 3
            },
            "file_extension": ".py",
            "mimetype": "text/x-python",
            "name": "python",
            "nbconvert_exporter": "python",
            "pygments_lexer": "ipython3",
            "version": "3.11.0"
        }
    },
    "nbformat": 4,
    "nbformat_minor": 0
}
