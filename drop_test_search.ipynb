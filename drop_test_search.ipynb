{
    "cells": [
        {
            "cell_type": "markdown",
            "metadata": {
                "colab_type": "text",
                "id": "view-in-github"
            },
            "source": [
                "<a href=\"https://colab.research.google.com/github/Luan-vP/glider/blob/main/Glider_Evolution.ipynb\" target=\"_parent\"><img src=\"https://colab.research.google.com/assets/colab-badge.svg\" alt=\"Open In Colab\"/></a>"
            ]
        },
        {
            "cell_type": "code",
            "execution_count": 1,
            "metadata": {},
            "outputs": [
                {
                    "name": "stdout",
                    "output_type": "stream",
                    "text": [
                        "\n"
                    ]
                }
            ],
            "source": [
                "from pathlib import Path\n",
                "\n",
                "repository_path = Path('.').resolve()\n",
                "\n",
                "!pip install -Uqq -r {repository_path}/requirements.txt -r {repository_path}/requirements-dev.txt\n",
                "\n",
                "!export PYTHONPATH=$PYTHONPATH:..:../src\n",
                "!echo $PYTHONPATH"
            ]
        },
        {
            "cell_type": "code",
            "execution_count": 2,
            "metadata": {},
            "outputs": [
                {
                    "name": "stdout",
                    "output_type": "stream",
                    "text": [
                        "[Vehicle(), Vehicle(), Vehicle(), Vehicle(), Vehicle(), Vehicle(), Vehicle(), Vehicle(), Vehicle(), Vehicle(), Vehicle(), Vehicle(), Vehicle(), Vehicle(), Vehicle(), Vehicle(), Vehicle(), Vehicle(), Vehicle(), Vehicle(), Vehicle(), Vehicle(), Vehicle(), Vehicle(), Vehicle(), Vehicle(), Vehicle(), Vehicle(), Vehicle(), Vehicle(), Vehicle(), Vehicle(), Vehicle(), Vehicle(), Vehicle(), Vehicle()]\n"
                    ]
                }
            ],
            "source": [
                "from vehicle import Vehicle\n",
                "from constants import DEFAULT_STL_FILEPATH\n",
                "from optimization import measure_drop_test\n",
                "import simulation\n",
                "from visualize import render_initial_pixels\n",
                "\n",
                "import mediapy as media\n",
                "\n",
                "POPULATION_SIZE = 36\n",
                "\n",
                "def prep_generation(population: int = 6) -> list[Vehicle]:\n",
                "    population = [Vehicle(num_points=30) for i in range(population)]\n",
                "\n",
                "    return population\n",
                "\n",
                "generation = prep_generation(population=POPULATION_SIZE)\n",
                "print(generation)\n",
                "\n",
                "results = [1 for i in range(len(generation))]\n",
                "\n"
            ]
        },
        {
            "cell_type": "code",
            "execution_count": 3,
            "metadata": {},
            "outputs": [],
            "source": [
                "max_distance = max(results)\n",
                "winning_glider = generation[results.index(max_distance)]\n",
                "\n",
                "reproduction_ratio = 0.4\n",
                "\n",
                "# --------   #\n",
                "epochs = 6\n",
                "for epoch in range(epochs):\n",
                "    new_generation = [Vehicle(vertices=winning_glider.vertices) for _ in range(int(POPULATION_SIZE * reproduction_ratio))]\n",
                "    results = []\n",
                "    for i in range(0, int(len(generation) - len(new_generation))):\n",
                "        vehicle = Vehicle(vertices=winning_glider.vertices)\n",
                "        vehicle.mutate()\n",
                "\n",
                "        new_generation.append(vehicle)\n",
                "        result = measure_drop_test(*vehicle.create_glider_from_vertices(), height=800)\n",
                "        results.append(result)\n",
                "\n",
                "    generation = new_generation\n"
            ]
        },
        {
            "cell_type": "code",
            "execution_count": 4,
            "metadata": {},
            "outputs": [
                {
                    "name": "stdout",
                    "output_type": "stream",
                    "text": [
                        "Max distance:  88.01030720422618\n"
                    ]
                },
                {
                    "data": {
                        "text/html": [
                            "<table class=\"show_images\" style=\"border-spacing:0px;\"><tr><td style=\"padding:1px;\"><img width=\"320\" height=\"240\" style=\"image-rendering:auto; object-fit:cover;\" src=\"data:image/png;base64,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\"/></td></tr></table>"
                        ],
                        "text/plain": [
                            "<IPython.core.display.HTML object>"
                        ]
                    },
                    "metadata": {},
                    "output_type": "display_data"
                },
                {
                    "name": "stdout",
                    "output_type": "stream",
                    "text": [
                        "60.96286630623098\n",
                        "Max distance:  88.01030720422618\n"
                    ]
                },
                {
                    "data": {
                        "text/html": [
                            "<table class=\"show_images\" style=\"border-spacing:0px;\"><tr><td style=\"padding:1px;\"><img width=\"320\" height=\"240\" style=\"image-rendering:auto; object-fit:cover;\" src=\"data:image/png;base64,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\"/></td></tr></table>"
                        ],
                        "text/plain": [
                            "<IPython.core.display.HTML object>"
                        ]
                    },
                    "metadata": {},
                    "output_type": "display_data"
                },
                {
                    "name": "stdout",
                    "output_type": "stream",
                    "text": [
                        "60.96286630623098\n",
                        "Max distance:  88.01030720422618\n"
                    ]
                },
                {
                    "data": {
                        "text/html": [
                            "<table class=\"show_images\" style=\"border-spacing:0px;\"><tr><td style=\"padding:1px;\"><img width=\"320\" height=\"240\" style=\"image-rendering:auto; object-fit:cover;\" src=\"data:image/png;base64,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\"/></td></tr></table>"
                        ],
                        "text/plain": [
                            "<IPython.core.display.HTML object>"
                        ]
                    },
                    "metadata": {},
                    "output_type": "display_data"
                },
                {
                    "name": "stdout",
                    "output_type": "stream",
                    "text": [
                        "60.96286630623098\n",
                        "Max distance:  88.01030720422618\n"
                    ]
                },
                {
                    "data": {
                        "text/html": [
                            "<table class=\"show_images\" style=\"border-spacing:0px;\"><tr><td style=\"padding:1px;\"><img width=\"320\" height=\"240\" style=\"image-rendering:auto; object-fit:cover;\" src=\"data:image/png;base64,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\"/></td></tr></table>"
                        ],
                        "text/plain": [
                            "<IPython.core.display.HTML object>"
                        ]
                    },
                    "metadata": {},
                    "output_type": "display_data"
                },
                {
                    "name": "stdout",
                    "output_type": "stream",
                    "text": [
                        "60.96286630623098\n",
                        "Max distance:  88.01030720422618\n"
                    ]
                },
                {
                    "data": {
                        "text/html": [
                            "<table class=\"show_images\" style=\"border-spacing:0px;\"><tr><td style=\"padding:1px;\"><img width=\"320\" height=\"240\" style=\"image-rendering:auto; object-fit:cover;\" src=\"data:image/png;base64,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\"/></td></tr></table>"
                        ],
                        "text/plain": [
                            "<IPython.core.display.HTML object>"
                        ]
                    },
                    "metadata": {},
                    "output_type": "display_data"
                },
                {
                    "name": "stdout",
                    "output_type": "stream",
                    "text": [
                        "60.96286630623098\n",
                        "Max distance:  88.01030720422618\n"
                    ]
                },
                {
                    "data": {
                        "text/html": [
                            "<table class=\"show_images\" style=\"border-spacing:0px;\"><tr><td style=\"padding:1px;\"><img width=\"320\" height=\"240\" style=\"image-rendering:auto; object-fit:cover;\" src=\"data:image/png;base64,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\"/></td></tr></table>"
                        ],
                        "text/plain": [
                            "<IPython.core.display.HTML object>"
                        ]
                    },
                    "metadata": {},
                    "output_type": "display_data"
                },
                {
                    "name": "stdout",
                    "output_type": "stream",
                    "text": [
                        "60.96286630623098\n"
                    ]
                }
            ],
            "source": [
                "epochs = 6\n",
                "\n",
                "\n",
                "for i in range(epochs):\n",
                "\n",
                "    max_distance = max(results)\n",
                "    winning_glider = generation[results.index(max_distance)]\n",
                "\n",
                "    print(\"Max distance: \", max_distance)\n",
                "    orientation = [200, 200, 100]\n",
                "    world_xml = simulation.wrap_glider(\n",
                "        *winning_glider.create_glider_from_vertices(\n",
                "            orientation=orientation,\n",
                "            scale=4.0,\n",
                "        )\n",
                "    )\n",
                "    media.show_image(render_initial_pixels(world_xml))\n",
                "    print(result)"
            ]
        },
        {
            "cell_type": "code",
            "execution_count": 5,
            "metadata": {},
            "outputs": [],
            "source": [
                "import simulation\n",
                "\n",
                "world_xml = simulation.drop_test_glider(\n",
                "    *winning_glider.create_glider_from_vertices(),\n",
                "    height=800\n",
                ")\n",
                "\n",
                "with open(\"/Users/luan/Developer/glider/assets/worlds/world.xml\", \"w\") as f:\n",
                "    f.write(world_xml)"
            ]
        },
        {
            "cell_type": "code",
            "execution_count": null,
            "metadata": {},
            "outputs": [],
            "source": []
        }
    ],
    "metadata": {
        "accelerator": "GPU",
        "colab": {
            "authorship_tag": "ABX9TyOZUuXdsXxggvP+IOiTfZbk",
            "gpuType": "A100",
            "include_colab_link": true,
            "provenance": []
        },
        "kernelspec": {
            "display_name": "Python 3",
            "name": "python3"
        },
        "language_info": {
            "codemirror_mode": {
                "name": "ipython",
                "version": 3
            },
            "file_extension": ".py",
            "mimetype": "text/x-python",
            "name": "python",
            "nbconvert_exporter": "python",
            "pygments_lexer": "ipython3",
            "version": "3.11.0"
        }
    },
    "nbformat": 4,
    "nbformat_minor": 0
}
