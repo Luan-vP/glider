{
 "cells": [
  {
   "cell_type": "code",
   "execution_count": 1,
   "metadata": {},
   "outputs": [
    {
     "name": "stdout",
     "output_type": "stream",
     "text": [
      "Note: you may need to restart the kernel to use updated packages.\n"
     ]
    }
   ],
   "source": [
    "%pip install -Uqq brax jax mujoco"
   ]
  },
  {
   "cell_type": "code",
   "execution_count": 9,
   "metadata": {},
   "outputs": [
    {
     "ename": "AttributeError",
     "evalue": "module 'jax.numpy' has no attribute 'init_zeros'",
     "output_type": "error",
     "traceback": [
      "\u001b[0;31m---------------------------------------------------------------------------\u001b[0m",
      "\u001b[0;31mAttributeError\u001b[0m                            Traceback (most recent call last)",
      "\u001b[1;32m/Users/luan/Developer/glider/backend/notebooks/brax_visualisation.ipynb Cell 2\u001b[0m line \u001b[0;36m1\n\u001b[1;32m     <a href='vscode-notebook-cell:/Users/luan/Developer/glider/backend/notebooks/brax_visualisation.ipynb#W0sZmlsZQ%3D%3D?line=9'>10</a>\u001b[0m     world_xml \u001b[39m=\u001b[39m f\u001b[39m.\u001b[39mread()\n\u001b[1;32m     <a href='vscode-notebook-cell:/Users/luan/Developer/glider/backend/notebooks/brax_visualisation.ipynb#W0sZmlsZQ%3D%3D?line=11'>12</a>\u001b[0m drop_test \u001b[39m=\u001b[39m mjcf\u001b[39m.\u001b[39mloads(world_xml)\n\u001b[0;32m---> <a href='vscode-notebook-cell:/Users/luan/Developer/glider/backend/notebooks/brax_visualisation.ipynb#W0sZmlsZQ%3D%3D?line=13'>14</a>\u001b[0m state \u001b[39m=\u001b[39m pipeline\u001b[39m.\u001b[39minit(drop_test, drop_test\u001b[39m.\u001b[39minit_q, jp\u001b[39m.\u001b[39;49minit_zeros(drop_test\u001b[39m.\u001b[39mqd_size()))\n",
      "File \u001b[0;32m~v/.pyenv/versions/3.11.0/lib/python3.11/site-packages/jax/_src/deprecations.py:53\u001b[0m, in \u001b[0;36mdeprecation_getattr.<locals>.getattr\u001b[0;34m(name)\u001b[0m\n\u001b[1;32m     51\u001b[0m   warnings\u001b[39m.\u001b[39mwarn(message, \u001b[39mDeprecationWarning\u001b[39;00m, stacklevel\u001b[39m=\u001b[39m\u001b[39m2\u001b[39m)\n\u001b[1;32m     52\u001b[0m   \u001b[39mreturn\u001b[39;00m fn\n\u001b[0;32m---> 53\u001b[0m \u001b[39mraise\u001b[39;00m \u001b[39mAttributeError\u001b[39;00m(\u001b[39mf\u001b[39m\u001b[39m\"\u001b[39m\u001b[39mmodule \u001b[39m\u001b[39m{\u001b[39;00mmodule\u001b[39m!r}\u001b[39;00m\u001b[39m has no attribute \u001b[39m\u001b[39m{\u001b[39;00mname\u001b[39m!r}\u001b[39;00m\u001b[39m\"\u001b[39m)\n",
      "\u001b[0;31mAttributeError\u001b[0m: module 'jax.numpy' has no attribute 'init_zeros'"
     ]
    }
   ],
   "source": [
    "import brax\n",
    "import jax\n",
    "from jax import numpy as jp\n",
    "from brax import envs\n",
    "from brax.positional import pipeline\n",
    "from brax.io import html, mjcf\n",
    "from IPython.display import HTML, display\n",
    "\n",
    "with open('aerofoil_drop_test.xml', 'r') as f:\n",
    "    world_xml = f.read()\n",
    "\n",
    "drop_test = mjcf.loads(world_xml)\n",
    "\n",
    "state = pipeline.init(drop_test, drop_test.init_q, jp.zeros(drop_test.qd_size()))\n",
    "\n"
   ]
  },
  {
   "cell_type": "code",
   "execution_count": null,
   "metadata": {},
   "outputs": [],
   "source": []
  }
 ],
 "metadata": {
  "kernelspec": {
   "display_name": "Python 3",
   "language": "python",
   "name": "python3"
  },
  "language_info": {
   "codemirror_mode": {
    "name": "ipython",
    "version": 3
   },
   "file_extension": ".py",
   "mimetype": "text/x-python",
   "name": "python",
   "nbconvert_exporter": "python",
   "pygments_lexer": "ipython3",
   "version": "3.11.0"
  }
 },
 "nbformat": 4,
 "nbformat_minor": 2
}
